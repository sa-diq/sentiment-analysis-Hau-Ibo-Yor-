{
 "cells": [
  {
   "cell_type": "markdown",
   "metadata": {},
   "source": [
    "# Sentiment Analysis of Hausa, Igbo, and Yoruba Languages"
   ]
  },
  {
   "cell_type": "code",
   "execution_count": 31,
   "metadata": {},
   "outputs": [
    {
     "name": "stdout",
     "output_type": "stream",
     "text": [
      "Note: you may need to restart the kernel to use updated packages.\n"
     ]
    }
   ],
   "source": [
    "%pip install -r requirements.txt --quiet"
   ]
  },
  {
   "cell_type": "code",
   "execution_count": 32,
   "metadata": {},
   "outputs": [
    {
     "name": "stderr",
     "output_type": "stream",
     "text": [
      "[nltk_data] Downloading package punkt to\n",
      "[nltk_data]     C:\\Users\\HP\\AppData\\Roaming\\nltk_data...\n",
      "[nltk_data]   Package punkt is already up-to-date!\n"
     ]
    }
   ],
   "source": [
    "# Import the necessary libraries\n",
    "import os\n",
    "import pandas as pd\n",
    "import numpy as np\n",
    "import matplotlib.pyplot as plt\n",
    "%matplotlib inline\n",
    "import seaborn as sns\n",
    "from plotly import graph_objs as go\n",
    "import plotly.express as px\n",
    "import plotly.figure_factory as ff\n",
    "\n",
    "import nltk\n",
    "nltk.download('punkt')\n",
    "from nltk.corpus import stopwords\n",
    "from nltk.tokenize import word_tokenize\n",
    "import re\n",
    "\n",
    "\n",
    "import tensorflow as tf\n",
    "from tqdm import tqdm\n",
    "from sklearn.model_selection import train_test_split\n",
    "\n",
    "from keras.models import Sequential\n",
    "from keras.layers import LSTM, GRU,SimpleRNN\n",
    "from keras.layers import Dense, Activation, Dropout\n",
    "from keras.layers import Embedding\n",
    "from keras.layers import BatchNormalization\n",
    "\n",
    "from sklearn import preprocessing, decomposition, model_selection, metrics, pipeline\n",
    "from keras.layers import GlobalMaxPooling1D, Conv1D, MaxPooling1D, Flatten, Bidirectional, SpatialDropout1D\n",
    "from keras.preprocessing import sequence, text\n",
    "from keras.callbacks import EarlyStopping\n",
    "from tensorflow.keras.preprocessing.text import Tokenizer\n",
    "from tensorflow.keras.preprocessing.sequence import pad_sequences\n",
    "from tensorflow.keras.regularizers import l2\n",
    "\n",
    "from sklearn.feature_extraction.text import TfidfVectorizer\n",
    "from sklearn.feature_extraction.text import CountVectorizer\n",
    "from sklearn.pipeline import Pipeline\n",
    "from sklearn.model_selection import GridSearchCV\n",
    "from sklearn.linear_model import LogisticRegression\n",
    "from sklearn.naive_bayes import MultinomialNB\n",
    "from sklearn.metrics import classification_report, accuracy_score, f1_score\n",
    "from sklearn.ensemble import StackingClassifier\n",
    "from sklearn.pipeline import make_pipeline\n",
    "from sklearn.base import clone"
   ]
  },
  {
   "cell_type": "markdown",
   "metadata": {},
   "source": [
    "# Load Datasets"
   ]
  },
  {
   "cell_type": "code",
   "execution_count": 33,
   "metadata": {},
   "outputs": [],
   "source": [
    "# Loading the datasets, stopwords, and lexicons\n",
    "languages = ['hausa', 'igbo', 'yoruba']\n",
    "train_data = {}\n",
    "dev_data = {}\n",
    "test_data = {}\n",
    "stopwords = {}\n",
    "lexicons = {}\n",
    "\n",
    "for lang in languages:\n",
    "    train_data[lang] = pd.read_csv(f'https://raw.githubusercontent.com/sa-diq/sentiment-analysis-Hau-Ibo-Yor-/main/data/{lang}_train.tsv', delimiter='\\t')\n",
    "    dev_data[lang] = pd.read_csv(f'https://raw.githubusercontent.com/sa-diq/sentiment-analysis-Hau-Ibo-Yor-/main/data/{lang}_dev.tsv', delimiter='\\t')\n",
    "    test_data[lang] = pd.read_csv(f'https://raw.githubusercontent.com/sa-diq/sentiment-analysis-Hau-Ibo-Yor-/main/data/{lang}_test.tsv', delimiter='\\t')\n",
    "    stopwords[lang] = pd.read_csv(f'https://raw.githubusercontent.com/sa-diq/sentiment-analysis-Hau-Ibo-Yor-/main/data/{lang}_stopwords.csv')\n",
    "    lexicons[lang] = pd.read_csv(f'https://raw.githubusercontent.com/sa-diq/sentiment-analysis-Hau-Ibo-Yor-/main/data/{lang}_lexicon.csv')"
   ]
  },
  {
   "cell_type": "code",
   "execution_count": 34,
   "metadata": {},
   "outputs": [
    {
     "name": "stdout",
     "output_type": "stream",
     "text": [
      "Hausa Train Data\n",
      "                                               tweet     label\n",
      "0  @user Da kudin da Arewa babu wani abin azo aga...  negative\n",
      "1  @user Kaga wani Adu ar Banda💔😭 wai a haka Shi ...  negative\n",
      "2  @user Sai haquri fa yan madrid daman kunce cha...  negative\n",
      "3  @user Hmmm yanzu kai kasan girman allah daxaka...  negative\n",
      "4  @user @user Wai gwamno nin Nigeria suna afa kw...  negative\n",
      "(14172, 2)\n",
      "\n",
      "\n",
      "Igbo Train Data\n",
      "                                               tweet     label\n",
      "0       Nna Ike Gwuru ooo. 😂 https://t.co/NDS7juFBGd  negative\n",
      "1                 @user Chineke nna kezi mgbe ole???  negative\n",
      "2  Lol. Isi adirokwanu gi nma.. 😐😒😒😒 https://t.co...  negative\n",
      "3  @user haha. Fulani herdsmen. akpa amu gi retwe...  negative\n",
      "4  Nna ghetto di gi na aru biko!!! https://t.co/4...  negative\n",
      "(10192, 2)\n",
      "\n",
      "\n",
      "Yoruba Train Data\n",
      "                                               tweet     label\n",
      "0  Ìwọ ikú òpònú abaradúdú wọ, o ò ṣe é 're o. O ...  negative\n",
      "1  Yorùbá nbú'yàn ṣá \"\"\"\"\"\"\"\"..àyà wanle bí òkú ì...  negative\n",
      "2  Òwe àgbà ní \"\"\"\"\"\"\"\"ọmọlọ́mọ là á rán níṣẹ́ à ...  negative\n",
      "3  RT @user: @user asa kasa ti awon eyan ko ni od...  negative\n",
      "4  RT @user: Mo ń rí àwọn èébú kọ̀ọ̀kan. Àti àwọn...  negative\n",
      "(8522, 2)\n",
      "\n",
      "\n"
     ]
    }
   ],
   "source": [
    "# Print the first 5 rows of the hausa train data, yoruba train data, and igbo train data and their shapes\n",
    "print('Hausa Train Data')\n",
    "print(train_data['hausa'].head())\n",
    "print(train_data['hausa'].shape)\n",
    "print('\\n')\n",
    "print('Igbo Train Data')\n",
    "print(train_data['igbo'].head())\n",
    "print(train_data['igbo'].shape)\n",
    "print('\\n')\n",
    "print('Yoruba Train Data')\n",
    "print(train_data['yoruba'].head())\n",
    "print(train_data['yoruba'].shape)\n",
    "print('\\n')"
   ]
  },
  {
   "cell_type": "markdown",
   "metadata": {},
   "source": [
    "# DATA PREPROCESSING"
   ]
  },
  {
   "cell_type": "code",
   "execution_count": 35,
   "metadata": {},
   "outputs": [],
   "source": [
    "# create a function to clean the text data\n",
    "def clean_text(text):\n",
    "    text = re.sub(r'@[A-Za-z0-9]+', '', text) #Removing @mentions\n",
    "    text = re.sub(r'#', '', text) # Removing '#' hash tag\n",
    "    text = re.sub(r'RT[\\s]+', '', text) # Removing RT\n",
    "    text = re.sub(r'https?:\\/\\/\\S+', '', text) # Removing the hyper link\n",
    "    text = re.sub(r'[^\\w\\s]', '', text) # Removing the punctuation\n",
    "    text = re.sub(r'\\d+', '', text) # Removing the digits\n",
    "    text = re.sub(r'\\bo{1,3}\\b|\\bò\\b', '', text) # Removing 'o' or 'oo' or 'ooo' or 'ò'\n",
    "    text = text.lower() # Converting the text to lower case\n",
    "    return text\n",
    "\n",
    "#  apply the clean_text function to the text data\n",
    "for lang in languages:\n",
    "    train_data[lang]['clean_tweet'] = train_data[lang]['tweet'].apply(clean_text)\n",
    "    dev_data[lang]['clean_tweet'] = dev_data[lang]['tweet'].apply(clean_text)\n",
    "    test_data[lang]['clean_tweet'] = test_data[lang]['tweet'].apply(clean_text)"
   ]
  },
  {
   "cell_type": "code",
   "execution_count": 36,
   "metadata": {},
   "outputs": [
    {
     "name": "stdout",
     "output_type": "stream",
     "text": [
      "Hausa Train Data\n"
     ]
    },
    {
     "data": {
      "text/html": [
       "<div>\n",
       "<style scoped>\n",
       "    .dataframe tbody tr th:only-of-type {\n",
       "        vertical-align: middle;\n",
       "    }\n",
       "\n",
       "    .dataframe tbody tr th {\n",
       "        vertical-align: top;\n",
       "    }\n",
       "\n",
       "    .dataframe thead th {\n",
       "        text-align: right;\n",
       "    }\n",
       "</style>\n",
       "<table border=\"1\" class=\"dataframe\">\n",
       "  <thead>\n",
       "    <tr style=\"text-align: right;\">\n",
       "      <th></th>\n",
       "      <th>tweet</th>\n",
       "      <th>label</th>\n",
       "      <th>clean_tweet</th>\n",
       "    </tr>\n",
       "  </thead>\n",
       "  <tbody>\n",
       "    <tr>\n",
       "      <th>0</th>\n",
       "      <td>@user Da kudin da Arewa babu wani abin azo aga...</td>\n",
       "      <td>negative</td>\n",
       "      <td>da kudin da arewa babu wani abin azo agani da...</td>\n",
       "    </tr>\n",
       "    <tr>\n",
       "      <th>1</th>\n",
       "      <td>@user Kaga wani Adu ar Banda💔😭 wai a haka Shi ...</td>\n",
       "      <td>negative</td>\n",
       "      <td>kaga wani adu ar banda wai a haka shi ne shug...</td>\n",
       "    </tr>\n",
       "    <tr>\n",
       "      <th>2</th>\n",
       "      <td>@user Sai haquri fa yan madrid daman kunce cha...</td>\n",
       "      <td>negative</td>\n",
       "      <td>sai haquri fa yan madrid daman kunce champion...</td>\n",
       "    </tr>\n",
       "    <tr>\n",
       "      <th>3</th>\n",
       "      <td>@user Hmmm yanzu kai kasan girman allah daxaka...</td>\n",
       "      <td>negative</td>\n",
       "      <td>hmmm yanzu kai kasan girman allah daxakace mu...</td>\n",
       "    </tr>\n",
       "    <tr>\n",
       "      <th>4</th>\n",
       "      <td>@user @user Wai gwamno nin Nigeria suna afa kw...</td>\n",
       "      <td>negative</td>\n",
       "      <td>wai gwamno nin nigeria suna afa kwayoyi ko</td>\n",
       "    </tr>\n",
       "  </tbody>\n",
       "</table>\n",
       "</div>"
      ],
      "text/plain": [
       "                                               tweet     label  \\\n",
       "0  @user Da kudin da Arewa babu wani abin azo aga...  negative   \n",
       "1  @user Kaga wani Adu ar Banda💔😭 wai a haka Shi ...  negative   \n",
       "2  @user Sai haquri fa yan madrid daman kunce cha...  negative   \n",
       "3  @user Hmmm yanzu kai kasan girman allah daxaka...  negative   \n",
       "4  @user @user Wai gwamno nin Nigeria suna afa kw...  negative   \n",
       "\n",
       "                                         clean_tweet  \n",
       "0   da kudin da arewa babu wani abin azo agani da...  \n",
       "1   kaga wani adu ar banda wai a haka shi ne shug...  \n",
       "2   sai haquri fa yan madrid daman kunce champion...  \n",
       "3   hmmm yanzu kai kasan girman allah daxakace mu...  \n",
       "4        wai gwamno nin nigeria suna afa kwayoyi ko   "
      ]
     },
     "metadata": {},
     "output_type": "display_data"
    },
    {
     "name": "stdout",
     "output_type": "stream",
     "text": [
      "\n",
      "\n",
      "Igbo Train Data\n"
     ]
    },
    {
     "data": {
      "text/html": [
       "<div>\n",
       "<style scoped>\n",
       "    .dataframe tbody tr th:only-of-type {\n",
       "        vertical-align: middle;\n",
       "    }\n",
       "\n",
       "    .dataframe tbody tr th {\n",
       "        vertical-align: top;\n",
       "    }\n",
       "\n",
       "    .dataframe thead th {\n",
       "        text-align: right;\n",
       "    }\n",
       "</style>\n",
       "<table border=\"1\" class=\"dataframe\">\n",
       "  <thead>\n",
       "    <tr style=\"text-align: right;\">\n",
       "      <th></th>\n",
       "      <th>tweet</th>\n",
       "      <th>label</th>\n",
       "      <th>clean_tweet</th>\n",
       "    </tr>\n",
       "  </thead>\n",
       "  <tbody>\n",
       "    <tr>\n",
       "      <th>0</th>\n",
       "      <td>Nna Ike Gwuru ooo. 😂 https://t.co/NDS7juFBGd</td>\n",
       "      <td>negative</td>\n",
       "      <td>nna ike gwuru</td>\n",
       "    </tr>\n",
       "    <tr>\n",
       "      <th>1</th>\n",
       "      <td>@user Chineke nna kezi mgbe ole???</td>\n",
       "      <td>negative</td>\n",
       "      <td>chineke nna kezi mgbe ole</td>\n",
       "    </tr>\n",
       "    <tr>\n",
       "      <th>2</th>\n",
       "      <td>Lol. Isi adirokwanu gi nma.. 😐😒😒😒 https://t.co...</td>\n",
       "      <td>negative</td>\n",
       "      <td>lol isi adirokwanu gi nma</td>\n",
       "    </tr>\n",
       "    <tr>\n",
       "      <th>3</th>\n",
       "      <td>@user haha. Fulani herdsmen. akpa amu gi retwe...</td>\n",
       "      <td>negative</td>\n",
       "      <td>haha fulani herdsmen akpa amu gi retweet rie ...</td>\n",
       "    </tr>\n",
       "    <tr>\n",
       "      <th>4</th>\n",
       "      <td>Nna ghetto di gi na aru biko!!! https://t.co/4...</td>\n",
       "      <td>negative</td>\n",
       "      <td>nna ghetto di gi na aru biko</td>\n",
       "    </tr>\n",
       "  </tbody>\n",
       "</table>\n",
       "</div>"
      ],
      "text/plain": [
       "                                               tweet     label  \\\n",
       "0       Nna Ike Gwuru ooo. 😂 https://t.co/NDS7juFBGd  negative   \n",
       "1                 @user Chineke nna kezi mgbe ole???  negative   \n",
       "2  Lol. Isi adirokwanu gi nma.. 😐😒😒😒 https://t.co...  negative   \n",
       "3  @user haha. Fulani herdsmen. akpa amu gi retwe...  negative   \n",
       "4  Nna ghetto di gi na aru biko!!! https://t.co/4...  negative   \n",
       "\n",
       "                                         clean_tweet  \n",
       "0                                   nna ike gwuru     \n",
       "1                          chineke nna kezi mgbe ole  \n",
       "2                        lol isi adirokwanu gi nma    \n",
       "3   haha fulani herdsmen akpa amu gi retweet rie ...  \n",
       "4                      nna ghetto di gi na aru biko   "
      ]
     },
     "metadata": {},
     "output_type": "display_data"
    },
    {
     "name": "stdout",
     "output_type": "stream",
     "text": [
      "\n",
      "\n",
      "Yoruba Train Data\n"
     ]
    },
    {
     "data": {
      "text/html": [
       "<div>\n",
       "<style scoped>\n",
       "    .dataframe tbody tr th:only-of-type {\n",
       "        vertical-align: middle;\n",
       "    }\n",
       "\n",
       "    .dataframe tbody tr th {\n",
       "        vertical-align: top;\n",
       "    }\n",
       "\n",
       "    .dataframe thead th {\n",
       "        text-align: right;\n",
       "    }\n",
       "</style>\n",
       "<table border=\"1\" class=\"dataframe\">\n",
       "  <thead>\n",
       "    <tr style=\"text-align: right;\">\n",
       "      <th></th>\n",
       "      <th>tweet</th>\n",
       "      <th>label</th>\n",
       "      <th>clean_tweet</th>\n",
       "    </tr>\n",
       "  </thead>\n",
       "  <tbody>\n",
       "    <tr>\n",
       "      <th>0</th>\n",
       "      <td>Ìwọ ikú òpònú abaradúdú wọ, o ò ṣe é 're o. O ...</td>\n",
       "      <td>negative</td>\n",
       "      <td>ìwọ ikú òpònú abaradúdú wọ   ṣe é re  o dóró  ...</td>\n",
       "    </tr>\n",
       "    <tr>\n",
       "      <th>1</th>\n",
       "      <td>Yorùbá nbú'yàn ṣá \"\"\"\"\"\"\"\"..àyà wanle bí òkú ì...</td>\n",
       "      <td>negative</td>\n",
       "      <td>yorùbá nbúyàn ṣá àyà wanle bí òkú ìbànújẹ áha ...</td>\n",
       "    </tr>\n",
       "    <tr>\n",
       "      <th>2</th>\n",
       "      <td>Òwe àgbà ní \"\"\"\"\"\"\"\"ọmọlọ́mọ là á rán níṣẹ́ à ...</td>\n",
       "      <td>negative</td>\n",
       "      <td>òwe àgbà ní ọmọlọmọ là á rán níṣẹ à á dé lóru ...</td>\n",
       "    </tr>\n",
       "    <tr>\n",
       "      <th>3</th>\n",
       "      <td>RT @user: @user asa kasa ti awon eyan ko ni od...</td>\n",
       "      <td>negative</td>\n",
       "      <td>asa kasa ti awon eyan ko ni odo awon oyinbo ...</td>\n",
       "    </tr>\n",
       "    <tr>\n",
       "      <th>4</th>\n",
       "      <td>RT @user: Mo ń rí àwọn èébú kọ̀ọ̀kan. Àti àwọn...</td>\n",
       "      <td>negative</td>\n",
       "      <td>mo ń rí àwọn èébú kọọkan àti àwọn tí wọn ń fi...</td>\n",
       "    </tr>\n",
       "  </tbody>\n",
       "</table>\n",
       "</div>"
      ],
      "text/plain": [
       "                                               tweet     label  \\\n",
       "0  Ìwọ ikú òpònú abaradúdú wọ, o ò ṣe é 're o. O ...  negative   \n",
       "1  Yorùbá nbú'yàn ṣá \"\"\"\"\"\"\"\"..àyà wanle bí òkú ì...  negative   \n",
       "2  Òwe àgbà ní \"\"\"\"\"\"\"\"ọmọlọ́mọ là á rán níṣẹ́ à ...  negative   \n",
       "3  RT @user: @user asa kasa ti awon eyan ko ni od...  negative   \n",
       "4  RT @user: Mo ń rí àwọn èébú kọ̀ọ̀kan. Àti àwọn...  negative   \n",
       "\n",
       "                                         clean_tweet  \n",
       "0  ìwọ ikú òpònú abaradúdú wọ   ṣe é re  o dóró  ...  \n",
       "1  yorùbá nbúyàn ṣá àyà wanle bí òkú ìbànújẹ áha ...  \n",
       "2  òwe àgbà ní ọmọlọmọ là á rán níṣẹ à á dé lóru ...  \n",
       "3    asa kasa ti awon eyan ko ni odo awon oyinbo ...  \n",
       "4   mo ń rí àwọn èébú kọọkan àti àwọn tí wọn ń fi...  "
      ]
     },
     "metadata": {},
     "output_type": "display_data"
    },
    {
     "name": "stdout",
     "output_type": "stream",
     "text": [
      "\n",
      "\n"
     ]
    }
   ],
   "source": [
    "# Print the first 5 rows of the hausa train data\n",
    "\n",
    "print('Hausa Train Data')\n",
    "display(train_data['hausa'].head())\n",
    "\n",
    "print('\\n')\n",
    "print('Igbo Train Data')\n",
    "display(train_data['igbo'].head())\n",
    "\n",
    "print('\\n')\n",
    "print('Yoruba Train Data')\n",
    "display(train_data['yoruba'].head())\n",
    "\n",
    "print('\\n')"
   ]
  },
  {
   "cell_type": "markdown",
   "metadata": {},
   "source": [
    "### Remove Stopwords"
   ]
  },
  {
   "cell_type": "code",
   "execution_count": 37,
   "metadata": {},
   "outputs": [],
   "source": [
    "def remove_stopwords(data, stopwords):\n",
    "    data['clean_w/o_sw'] = data['clean_tweet'].apply(lambda x: ' '.join([word for word in x.split() if word not in stopwords]))\n",
    "    return data\n",
    "\n",
    "for lang in languages:\n",
    "    train_data[lang] = remove_stopwords(train_data[lang], stopwords[lang]['word'].tolist())\n",
    "    dev_data[lang] = remove_stopwords(dev_data[lang], stopwords[lang]['word'].tolist())\n",
    "    test_data[lang] = remove_stopwords(test_data[lang], stopwords[lang]['word'].tolist())"
   ]
  },
  {
   "cell_type": "code",
   "execution_count": 38,
   "metadata": {},
   "outputs": [
    {
     "name": "stdout",
     "output_type": "stream",
     "text": [
      "Hausa Train Data\n"
     ]
    },
    {
     "data": {
      "text/html": [
       "<div>\n",
       "<style scoped>\n",
       "    .dataframe tbody tr th:only-of-type {\n",
       "        vertical-align: middle;\n",
       "    }\n",
       "\n",
       "    .dataframe tbody tr th {\n",
       "        vertical-align: top;\n",
       "    }\n",
       "\n",
       "    .dataframe thead th {\n",
       "        text-align: right;\n",
       "    }\n",
       "</style>\n",
       "<table border=\"1\" class=\"dataframe\">\n",
       "  <thead>\n",
       "    <tr style=\"text-align: right;\">\n",
       "      <th></th>\n",
       "      <th>tweet</th>\n",
       "      <th>label</th>\n",
       "      <th>clean_tweet</th>\n",
       "      <th>clean_w/o_sw</th>\n",
       "    </tr>\n",
       "  </thead>\n",
       "  <tbody>\n",
       "    <tr>\n",
       "      <th>0</th>\n",
       "      <td>@user Da kudin da Arewa babu wani abin azo aga...</td>\n",
       "      <td>negative</td>\n",
       "      <td>da kudin da arewa babu wani abin azo agani da...</td>\n",
       "      <td>kudin arewa babu azo agani alummah isa yacucem...</td>\n",
       "    </tr>\n",
       "    <tr>\n",
       "      <th>1</th>\n",
       "      <td>@user Kaga wani Adu ar Banda💔😭 wai a haka Shi ...</td>\n",
       "      <td>negative</td>\n",
       "      <td>kaga wani adu ar banda wai a haka shi ne shug...</td>\n",
       "      <td>kaga adu ar banda wai shugaban sojoji gaskiya ...</td>\n",
       "    </tr>\n",
       "    <tr>\n",
       "      <th>2</th>\n",
       "      <td>@user Sai haquri fa yan madrid daman kunce cha...</td>\n",
       "      <td>negative</td>\n",
       "      <td>sai haquri fa yan madrid daman kunce champion...</td>\n",
       "      <td>haquri fa madrid daman kunce champion din muku...</td>\n",
       "    </tr>\n",
       "    <tr>\n",
       "      <th>3</th>\n",
       "      <td>@user Hmmm yanzu kai kasan girman allah daxaka...</td>\n",
       "      <td>negative</td>\n",
       "      <td>hmmm yanzu kai kasan girman allah daxakace mu...</td>\n",
       "      <td>hmmm yanzu kasan girman daxakace mukuma kune k...</td>\n",
       "    </tr>\n",
       "    <tr>\n",
       "      <th>4</th>\n",
       "      <td>@user @user Wai gwamno nin Nigeria suna afa kw...</td>\n",
       "      <td>negative</td>\n",
       "      <td>wai gwamno nin nigeria suna afa kwayoyi ko</td>\n",
       "      <td>wai gwamno nin nigeria suna afa kwayoyi</td>\n",
       "    </tr>\n",
       "  </tbody>\n",
       "</table>\n",
       "</div>"
      ],
      "text/plain": [
       "                                               tweet     label  \\\n",
       "0  @user Da kudin da Arewa babu wani abin azo aga...  negative   \n",
       "1  @user Kaga wani Adu ar Banda💔😭 wai a haka Shi ...  negative   \n",
       "2  @user Sai haquri fa yan madrid daman kunce cha...  negative   \n",
       "3  @user Hmmm yanzu kai kasan girman allah daxaka...  negative   \n",
       "4  @user @user Wai gwamno nin Nigeria suna afa kw...  negative   \n",
       "\n",
       "                                         clean_tweet  \\\n",
       "0   da kudin da arewa babu wani abin azo agani da...   \n",
       "1   kaga wani adu ar banda wai a haka shi ne shug...   \n",
       "2   sai haquri fa yan madrid daman kunce champion...   \n",
       "3   hmmm yanzu kai kasan girman allah daxakace mu...   \n",
       "4        wai gwamno nin nigeria suna afa kwayoyi ko    \n",
       "\n",
       "                                        clean_w/o_sw  \n",
       "0  kudin arewa babu azo agani alummah isa yacucem...  \n",
       "1  kaga adu ar banda wai shugaban sojoji gaskiya ...  \n",
       "2  haquri fa madrid daman kunce champion din muku...  \n",
       "3  hmmm yanzu kasan girman daxakace mukuma kune k...  \n",
       "4            wai gwamno nin nigeria suna afa kwayoyi  "
      ]
     },
     "metadata": {},
     "output_type": "display_data"
    },
    {
     "name": "stdout",
     "output_type": "stream",
     "text": [
      "\n",
      "\n",
      "Igbo Train Data\n"
     ]
    },
    {
     "data": {
      "text/html": [
       "<div>\n",
       "<style scoped>\n",
       "    .dataframe tbody tr th:only-of-type {\n",
       "        vertical-align: middle;\n",
       "    }\n",
       "\n",
       "    .dataframe tbody tr th {\n",
       "        vertical-align: top;\n",
       "    }\n",
       "\n",
       "    .dataframe thead th {\n",
       "        text-align: right;\n",
       "    }\n",
       "</style>\n",
       "<table border=\"1\" class=\"dataframe\">\n",
       "  <thead>\n",
       "    <tr style=\"text-align: right;\">\n",
       "      <th></th>\n",
       "      <th>tweet</th>\n",
       "      <th>label</th>\n",
       "      <th>clean_tweet</th>\n",
       "      <th>clean_w/o_sw</th>\n",
       "    </tr>\n",
       "  </thead>\n",
       "  <tbody>\n",
       "    <tr>\n",
       "      <th>0</th>\n",
       "      <td>Nna Ike Gwuru ooo. 😂 https://t.co/NDS7juFBGd</td>\n",
       "      <td>negative</td>\n",
       "      <td>nna ike gwuru</td>\n",
       "      <td>gwuru</td>\n",
       "    </tr>\n",
       "    <tr>\n",
       "      <th>1</th>\n",
       "      <td>@user Chineke nna kezi mgbe ole???</td>\n",
       "      <td>negative</td>\n",
       "      <td>chineke nna kezi mgbe ole</td>\n",
       "      <td>chineke kezi ole</td>\n",
       "    </tr>\n",
       "    <tr>\n",
       "      <th>2</th>\n",
       "      <td>Lol. Isi adirokwanu gi nma.. 😐😒😒😒 https://t.co...</td>\n",
       "      <td>negative</td>\n",
       "      <td>lol isi adirokwanu gi nma</td>\n",
       "      <td>lol adirokwanu nma</td>\n",
       "    </tr>\n",
       "    <tr>\n",
       "      <th>3</th>\n",
       "      <td>@user haha. Fulani herdsmen. akpa amu gi retwe...</td>\n",
       "      <td>negative</td>\n",
       "      <td>haha fulani herdsmen akpa amu gi retweet rie ...</td>\n",
       "      <td>haha fulani herdsmen akpa amu retweet rie nsi</td>\n",
       "    </tr>\n",
       "    <tr>\n",
       "      <th>4</th>\n",
       "      <td>Nna ghetto di gi na aru biko!!! https://t.co/4...</td>\n",
       "      <td>negative</td>\n",
       "      <td>nna ghetto di gi na aru biko</td>\n",
       "      <td>ghetto aru</td>\n",
       "    </tr>\n",
       "  </tbody>\n",
       "</table>\n",
       "</div>"
      ],
      "text/plain": [
       "                                               tweet     label  \\\n",
       "0       Nna Ike Gwuru ooo. 😂 https://t.co/NDS7juFBGd  negative   \n",
       "1                 @user Chineke nna kezi mgbe ole???  negative   \n",
       "2  Lol. Isi adirokwanu gi nma.. 😐😒😒😒 https://t.co...  negative   \n",
       "3  @user haha. Fulani herdsmen. akpa amu gi retwe...  negative   \n",
       "4  Nna ghetto di gi na aru biko!!! https://t.co/4...  negative   \n",
       "\n",
       "                                         clean_tweet  \\\n",
       "0                                   nna ike gwuru      \n",
       "1                          chineke nna kezi mgbe ole   \n",
       "2                        lol isi adirokwanu gi nma     \n",
       "3   haha fulani herdsmen akpa amu gi retweet rie ...   \n",
       "4                      nna ghetto di gi na aru biko    \n",
       "\n",
       "                                    clean_w/o_sw  \n",
       "0                                          gwuru  \n",
       "1                               chineke kezi ole  \n",
       "2                             lol adirokwanu nma  \n",
       "3  haha fulani herdsmen akpa amu retweet rie nsi  \n",
       "4                                     ghetto aru  "
      ]
     },
     "metadata": {},
     "output_type": "display_data"
    },
    {
     "name": "stdout",
     "output_type": "stream",
     "text": [
      "\n",
      "\n",
      "Yoruba Train Data\n"
     ]
    },
    {
     "data": {
      "text/html": [
       "<div>\n",
       "<style scoped>\n",
       "    .dataframe tbody tr th:only-of-type {\n",
       "        vertical-align: middle;\n",
       "    }\n",
       "\n",
       "    .dataframe tbody tr th {\n",
       "        vertical-align: top;\n",
       "    }\n",
       "\n",
       "    .dataframe thead th {\n",
       "        text-align: right;\n",
       "    }\n",
       "</style>\n",
       "<table border=\"1\" class=\"dataframe\">\n",
       "  <thead>\n",
       "    <tr style=\"text-align: right;\">\n",
       "      <th></th>\n",
       "      <th>tweet</th>\n",
       "      <th>label</th>\n",
       "      <th>clean_tweet</th>\n",
       "      <th>clean_w/o_sw</th>\n",
       "    </tr>\n",
       "  </thead>\n",
       "  <tbody>\n",
       "    <tr>\n",
       "      <th>0</th>\n",
       "      <td>Ìwọ ikú òpònú abaradúdú wọ, o ò ṣe é 're o. O ...</td>\n",
       "      <td>negative</td>\n",
       "      <td>ìwọ ikú òpònú abaradúdú wọ   ṣe é re  o dóró  ...</td>\n",
       "      <td>ìwọ ikú òpònú abaradúdú wọ é re dóró ṣèkà mẹni...</td>\n",
       "    </tr>\n",
       "    <tr>\n",
       "      <th>1</th>\n",
       "      <td>Yorùbá nbú'yàn ṣá \"\"\"\"\"\"\"\"..àyà wanle bí òkú ì...</td>\n",
       "      <td>negative</td>\n",
       "      <td>yorùbá nbúyàn ṣá àyà wanle bí òkú ìbànújẹ áha ...</td>\n",
       "      <td>yorùbá nbúyàn ṣá àyà wanle òkú ìbànújẹ áha eeb...</td>\n",
       "    </tr>\n",
       "    <tr>\n",
       "      <th>2</th>\n",
       "      <td>Òwe àgbà ní \"\"\"\"\"\"\"\"ọmọlọ́mọ là á rán níṣẹ́ à ...</td>\n",
       "      <td>negative</td>\n",
       "      <td>òwe àgbà ní ọmọlọmọ là á rán níṣẹ à á dé lóru ...</td>\n",
       "      <td>òwe àgbà ọmọlọmọ là rán níṣẹ à dé lóru wí ránm...</td>\n",
       "    </tr>\n",
       "    <tr>\n",
       "      <th>3</th>\n",
       "      <td>RT @user: @user asa kasa ti awon eyan ko ni od...</td>\n",
       "      <td>negative</td>\n",
       "      <td>asa kasa ti awon eyan ko ni odo awon oyinbo ...</td>\n",
       "      <td>asa kasa awon eyan ko odo awon oyinbo tiko mu ...</td>\n",
       "    </tr>\n",
       "    <tr>\n",
       "      <th>4</th>\n",
       "      <td>RT @user: Mo ń rí àwọn èébú kọ̀ọ̀kan. Àti àwọn...</td>\n",
       "      <td>negative</td>\n",
       "      <td>mo ń rí àwọn èébú kọọkan àti àwọn tí wọn ń fi...</td>\n",
       "      <td>èébú kọọkan yẹyẹ fiwọn sílẹ ta àwa ọwọ òs</td>\n",
       "    </tr>\n",
       "  </tbody>\n",
       "</table>\n",
       "</div>"
      ],
      "text/plain": [
       "                                               tweet     label  \\\n",
       "0  Ìwọ ikú òpònú abaradúdú wọ, o ò ṣe é 're o. O ...  negative   \n",
       "1  Yorùbá nbú'yàn ṣá \"\"\"\"\"\"\"\"..àyà wanle bí òkú ì...  negative   \n",
       "2  Òwe àgbà ní \"\"\"\"\"\"\"\"ọmọlọ́mọ là á rán níṣẹ́ à ...  negative   \n",
       "3  RT @user: @user asa kasa ti awon eyan ko ni od...  negative   \n",
       "4  RT @user: Mo ń rí àwọn èébú kọ̀ọ̀kan. Àti àwọn...  negative   \n",
       "\n",
       "                                         clean_tweet  \\\n",
       "0  ìwọ ikú òpònú abaradúdú wọ   ṣe é re  o dóró  ...   \n",
       "1  yorùbá nbúyàn ṣá àyà wanle bí òkú ìbànújẹ áha ...   \n",
       "2  òwe àgbà ní ọmọlọmọ là á rán níṣẹ à á dé lóru ...   \n",
       "3    asa kasa ti awon eyan ko ni odo awon oyinbo ...   \n",
       "4   mo ń rí àwọn èébú kọọkan àti àwọn tí wọn ń fi...   \n",
       "\n",
       "                                        clean_w/o_sw  \n",
       "0  ìwọ ikú òpònú abaradúdú wọ é re dóró ṣèkà mẹni...  \n",
       "1  yorùbá nbúyàn ṣá àyà wanle òkú ìbànújẹ áha eeb...  \n",
       "2  òwe àgbà ọmọlọmọ là rán níṣẹ à dé lóru wí ránm...  \n",
       "3  asa kasa awon eyan ko odo awon oyinbo tiko mu ...  \n",
       "4          èébú kọọkan yẹyẹ fiwọn sílẹ ta àwa ọwọ òs  "
      ]
     },
     "metadata": {},
     "output_type": "display_data"
    },
    {
     "name": "stdout",
     "output_type": "stream",
     "text": [
      "\n",
      "\n"
     ]
    }
   ],
   "source": [
    "# Print the first 5 rows of the hausa train data\n",
    "\n",
    "print('Hausa Train Data')\n",
    "display(train_data['hausa'].head())\n",
    "\n",
    "print('\\n')\n",
    "print('Igbo Train Data')\n",
    "display(train_data['igbo'].head())\n",
    "\n",
    "print('\\n')\n",
    "print('Yoruba Train Data')\n",
    "display(train_data['yoruba'].head())\n",
    "\n",
    "print('\\n')"
   ]
  },
  {
   "cell_type": "code",
   "execution_count": 39,
   "metadata": {},
   "outputs": [
    {
     "name": "stdout",
     "output_type": "stream",
     "text": [
      "The total number of unique words in hausa train tweets is 21811.\n",
      "The total number of unique words in igbo train tweets is 15542.\n",
      "The total number of unique words in yoruba train tweets is 22363.\n"
     ]
    }
   ],
   "source": [
    "for lang in languages:\n",
    "    # Split the tweets into words\n",
    "    words = train_data[lang]['clean_tweet'].str.split(expand=True).stack()\n",
    "\n",
    "    # Count the number of unique words\n",
    "    num_unique_words = words.nunique()\n",
    "\n",
    "    print(f\"The total number of unique words in {lang} train tweets is {num_unique_words}.\")"
   ]
  },
  {
   "cell_type": "code",
   "execution_count": 40,
   "metadata": {},
   "outputs": [],
   "source": [
    "# Perfrom label encoding on the label column\n",
    "le = preprocessing.LabelEncoder()\n",
    "for lang in languages:\n",
    "    train_data[lang]['label'] = le.fit_transform(train_data[lang]['label'])\n",
    "    dev_data[lang]['label'] = le.transform(dev_data[lang]['label'])\n",
    "    test_data[lang]['label'] = le.transform(test_data[lang]['label'])\n",
    "\n"
   ]
  },
  {
   "cell_type": "code",
   "execution_count": 41,
   "metadata": {},
   "outputs": [
    {
     "name": "stdout",
     "output_type": "stream",
     "text": [
      "Hausa Train Data\n"
     ]
    },
    {
     "data": {
      "text/html": [
       "<div>\n",
       "<style scoped>\n",
       "    .dataframe tbody tr th:only-of-type {\n",
       "        vertical-align: middle;\n",
       "    }\n",
       "\n",
       "    .dataframe tbody tr th {\n",
       "        vertical-align: top;\n",
       "    }\n",
       "\n",
       "    .dataframe thead th {\n",
       "        text-align: right;\n",
       "    }\n",
       "</style>\n",
       "<table border=\"1\" class=\"dataframe\">\n",
       "  <thead>\n",
       "    <tr style=\"text-align: right;\">\n",
       "      <th></th>\n",
       "      <th>tweet</th>\n",
       "      <th>label</th>\n",
       "      <th>clean_tweet</th>\n",
       "      <th>clean_w/o_sw</th>\n",
       "    </tr>\n",
       "  </thead>\n",
       "  <tbody>\n",
       "    <tr>\n",
       "      <th>0</th>\n",
       "      <td>@user Da kudin da Arewa babu wani abin azo aga...</td>\n",
       "      <td>0</td>\n",
       "      <td>da kudin da arewa babu wani abin azo agani da...</td>\n",
       "      <td>kudin arewa babu azo agani alummah isa yacucem...</td>\n",
       "    </tr>\n",
       "    <tr>\n",
       "      <th>1</th>\n",
       "      <td>@user Kaga wani Adu ar Banda💔😭 wai a haka Shi ...</td>\n",
       "      <td>0</td>\n",
       "      <td>kaga wani adu ar banda wai a haka shi ne shug...</td>\n",
       "      <td>kaga adu ar banda wai shugaban sojoji gaskiya ...</td>\n",
       "    </tr>\n",
       "    <tr>\n",
       "      <th>2</th>\n",
       "      <td>@user Sai haquri fa yan madrid daman kunce cha...</td>\n",
       "      <td>0</td>\n",
       "      <td>sai haquri fa yan madrid daman kunce champion...</td>\n",
       "      <td>haquri fa madrid daman kunce champion din muku...</td>\n",
       "    </tr>\n",
       "    <tr>\n",
       "      <th>3</th>\n",
       "      <td>@user Hmmm yanzu kai kasan girman allah daxaka...</td>\n",
       "      <td>0</td>\n",
       "      <td>hmmm yanzu kai kasan girman allah daxakace mu...</td>\n",
       "      <td>hmmm yanzu kasan girman daxakace mukuma kune k...</td>\n",
       "    </tr>\n",
       "    <tr>\n",
       "      <th>4</th>\n",
       "      <td>@user @user Wai gwamno nin Nigeria suna afa kw...</td>\n",
       "      <td>0</td>\n",
       "      <td>wai gwamno nin nigeria suna afa kwayoyi ko</td>\n",
       "      <td>wai gwamno nin nigeria suna afa kwayoyi</td>\n",
       "    </tr>\n",
       "  </tbody>\n",
       "</table>\n",
       "</div>"
      ],
      "text/plain": [
       "                                               tweet  label  \\\n",
       "0  @user Da kudin da Arewa babu wani abin azo aga...      0   \n",
       "1  @user Kaga wani Adu ar Banda💔😭 wai a haka Shi ...      0   \n",
       "2  @user Sai haquri fa yan madrid daman kunce cha...      0   \n",
       "3  @user Hmmm yanzu kai kasan girman allah daxaka...      0   \n",
       "4  @user @user Wai gwamno nin Nigeria suna afa kw...      0   \n",
       "\n",
       "                                         clean_tweet  \\\n",
       "0   da kudin da arewa babu wani abin azo agani da...   \n",
       "1   kaga wani adu ar banda wai a haka shi ne shug...   \n",
       "2   sai haquri fa yan madrid daman kunce champion...   \n",
       "3   hmmm yanzu kai kasan girman allah daxakace mu...   \n",
       "4        wai gwamno nin nigeria suna afa kwayoyi ko    \n",
       "\n",
       "                                        clean_w/o_sw  \n",
       "0  kudin arewa babu azo agani alummah isa yacucem...  \n",
       "1  kaga adu ar banda wai shugaban sojoji gaskiya ...  \n",
       "2  haquri fa madrid daman kunce champion din muku...  \n",
       "3  hmmm yanzu kasan girman daxakace mukuma kune k...  \n",
       "4            wai gwamno nin nigeria suna afa kwayoyi  "
      ]
     },
     "metadata": {},
     "output_type": "display_data"
    },
    {
     "name": "stdout",
     "output_type": "stream",
     "text": [
      "\n",
      "\n",
      "Igbo Train Data\n"
     ]
    },
    {
     "data": {
      "text/html": [
       "<div>\n",
       "<style scoped>\n",
       "    .dataframe tbody tr th:only-of-type {\n",
       "        vertical-align: middle;\n",
       "    }\n",
       "\n",
       "    .dataframe tbody tr th {\n",
       "        vertical-align: top;\n",
       "    }\n",
       "\n",
       "    .dataframe thead th {\n",
       "        text-align: right;\n",
       "    }\n",
       "</style>\n",
       "<table border=\"1\" class=\"dataframe\">\n",
       "  <thead>\n",
       "    <tr style=\"text-align: right;\">\n",
       "      <th></th>\n",
       "      <th>tweet</th>\n",
       "      <th>label</th>\n",
       "      <th>clean_tweet</th>\n",
       "      <th>clean_w/o_sw</th>\n",
       "    </tr>\n",
       "  </thead>\n",
       "  <tbody>\n",
       "    <tr>\n",
       "      <th>0</th>\n",
       "      <td>Nna Ike Gwuru ooo. 😂 https://t.co/NDS7juFBGd</td>\n",
       "      <td>0</td>\n",
       "      <td>nna ike gwuru</td>\n",
       "      <td>gwuru</td>\n",
       "    </tr>\n",
       "    <tr>\n",
       "      <th>1</th>\n",
       "      <td>@user Chineke nna kezi mgbe ole???</td>\n",
       "      <td>0</td>\n",
       "      <td>chineke nna kezi mgbe ole</td>\n",
       "      <td>chineke kezi ole</td>\n",
       "    </tr>\n",
       "    <tr>\n",
       "      <th>2</th>\n",
       "      <td>Lol. Isi adirokwanu gi nma.. 😐😒😒😒 https://t.co...</td>\n",
       "      <td>0</td>\n",
       "      <td>lol isi adirokwanu gi nma</td>\n",
       "      <td>lol adirokwanu nma</td>\n",
       "    </tr>\n",
       "    <tr>\n",
       "      <th>3</th>\n",
       "      <td>@user haha. Fulani herdsmen. akpa amu gi retwe...</td>\n",
       "      <td>0</td>\n",
       "      <td>haha fulani herdsmen akpa amu gi retweet rie ...</td>\n",
       "      <td>haha fulani herdsmen akpa amu retweet rie nsi</td>\n",
       "    </tr>\n",
       "    <tr>\n",
       "      <th>4</th>\n",
       "      <td>Nna ghetto di gi na aru biko!!! https://t.co/4...</td>\n",
       "      <td>0</td>\n",
       "      <td>nna ghetto di gi na aru biko</td>\n",
       "      <td>ghetto aru</td>\n",
       "    </tr>\n",
       "  </tbody>\n",
       "</table>\n",
       "</div>"
      ],
      "text/plain": [
       "                                               tweet  label  \\\n",
       "0       Nna Ike Gwuru ooo. 😂 https://t.co/NDS7juFBGd      0   \n",
       "1                 @user Chineke nna kezi mgbe ole???      0   \n",
       "2  Lol. Isi adirokwanu gi nma.. 😐😒😒😒 https://t.co...      0   \n",
       "3  @user haha. Fulani herdsmen. akpa amu gi retwe...      0   \n",
       "4  Nna ghetto di gi na aru biko!!! https://t.co/4...      0   \n",
       "\n",
       "                                         clean_tweet  \\\n",
       "0                                   nna ike gwuru      \n",
       "1                          chineke nna kezi mgbe ole   \n",
       "2                        lol isi adirokwanu gi nma     \n",
       "3   haha fulani herdsmen akpa amu gi retweet rie ...   \n",
       "4                      nna ghetto di gi na aru biko    \n",
       "\n",
       "                                    clean_w/o_sw  \n",
       "0                                          gwuru  \n",
       "1                               chineke kezi ole  \n",
       "2                             lol adirokwanu nma  \n",
       "3  haha fulani herdsmen akpa amu retweet rie nsi  \n",
       "4                                     ghetto aru  "
      ]
     },
     "metadata": {},
     "output_type": "display_data"
    },
    {
     "name": "stdout",
     "output_type": "stream",
     "text": [
      "\n",
      "\n",
      "Yoruba Train Data\n"
     ]
    },
    {
     "data": {
      "text/html": [
       "<div>\n",
       "<style scoped>\n",
       "    .dataframe tbody tr th:only-of-type {\n",
       "        vertical-align: middle;\n",
       "    }\n",
       "\n",
       "    .dataframe tbody tr th {\n",
       "        vertical-align: top;\n",
       "    }\n",
       "\n",
       "    .dataframe thead th {\n",
       "        text-align: right;\n",
       "    }\n",
       "</style>\n",
       "<table border=\"1\" class=\"dataframe\">\n",
       "  <thead>\n",
       "    <tr style=\"text-align: right;\">\n",
       "      <th></th>\n",
       "      <th>tweet</th>\n",
       "      <th>label</th>\n",
       "      <th>clean_tweet</th>\n",
       "      <th>clean_w/o_sw</th>\n",
       "    </tr>\n",
       "  </thead>\n",
       "  <tbody>\n",
       "    <tr>\n",
       "      <th>0</th>\n",
       "      <td>Ìwọ ikú òpònú abaradúdú wọ, o ò ṣe é 're o. O ...</td>\n",
       "      <td>0</td>\n",
       "      <td>ìwọ ikú òpònú abaradúdú wọ   ṣe é re  o dóró  ...</td>\n",
       "      <td>ìwọ ikú òpònú abaradúdú wọ é re dóró ṣèkà mẹni...</td>\n",
       "    </tr>\n",
       "    <tr>\n",
       "      <th>1</th>\n",
       "      <td>Yorùbá nbú'yàn ṣá \"\"\"\"\"\"\"\"..àyà wanle bí òkú ì...</td>\n",
       "      <td>0</td>\n",
       "      <td>yorùbá nbúyàn ṣá àyà wanle bí òkú ìbànújẹ áha ...</td>\n",
       "      <td>yorùbá nbúyàn ṣá àyà wanle òkú ìbànújẹ áha eeb...</td>\n",
       "    </tr>\n",
       "    <tr>\n",
       "      <th>2</th>\n",
       "      <td>Òwe àgbà ní \"\"\"\"\"\"\"\"ọmọlọ́mọ là á rán níṣẹ́ à ...</td>\n",
       "      <td>0</td>\n",
       "      <td>òwe àgbà ní ọmọlọmọ là á rán níṣẹ à á dé lóru ...</td>\n",
       "      <td>òwe àgbà ọmọlọmọ là rán níṣẹ à dé lóru wí ránm...</td>\n",
       "    </tr>\n",
       "    <tr>\n",
       "      <th>3</th>\n",
       "      <td>RT @user: @user asa kasa ti awon eyan ko ni od...</td>\n",
       "      <td>0</td>\n",
       "      <td>asa kasa ti awon eyan ko ni odo awon oyinbo ...</td>\n",
       "      <td>asa kasa awon eyan ko odo awon oyinbo tiko mu ...</td>\n",
       "    </tr>\n",
       "    <tr>\n",
       "      <th>4</th>\n",
       "      <td>RT @user: Mo ń rí àwọn èébú kọ̀ọ̀kan. Àti àwọn...</td>\n",
       "      <td>0</td>\n",
       "      <td>mo ń rí àwọn èébú kọọkan àti àwọn tí wọn ń fi...</td>\n",
       "      <td>èébú kọọkan yẹyẹ fiwọn sílẹ ta àwa ọwọ òs</td>\n",
       "    </tr>\n",
       "  </tbody>\n",
       "</table>\n",
       "</div>"
      ],
      "text/plain": [
       "                                               tweet  label  \\\n",
       "0  Ìwọ ikú òpònú abaradúdú wọ, o ò ṣe é 're o. O ...      0   \n",
       "1  Yorùbá nbú'yàn ṣá \"\"\"\"\"\"\"\"..àyà wanle bí òkú ì...      0   \n",
       "2  Òwe àgbà ní \"\"\"\"\"\"\"\"ọmọlọ́mọ là á rán níṣẹ́ à ...      0   \n",
       "3  RT @user: @user asa kasa ti awon eyan ko ni od...      0   \n",
       "4  RT @user: Mo ń rí àwọn èébú kọ̀ọ̀kan. Àti àwọn...      0   \n",
       "\n",
       "                                         clean_tweet  \\\n",
       "0  ìwọ ikú òpònú abaradúdú wọ   ṣe é re  o dóró  ...   \n",
       "1  yorùbá nbúyàn ṣá àyà wanle bí òkú ìbànújẹ áha ...   \n",
       "2  òwe àgbà ní ọmọlọmọ là á rán níṣẹ à á dé lóru ...   \n",
       "3    asa kasa ti awon eyan ko ni odo awon oyinbo ...   \n",
       "4   mo ń rí àwọn èébú kọọkan àti àwọn tí wọn ń fi...   \n",
       "\n",
       "                                        clean_w/o_sw  \n",
       "0  ìwọ ikú òpònú abaradúdú wọ é re dóró ṣèkà mẹni...  \n",
       "1  yorùbá nbúyàn ṣá àyà wanle òkú ìbànújẹ áha eeb...  \n",
       "2  òwe àgbà ọmọlọmọ là rán níṣẹ à dé lóru wí ránm...  \n",
       "3  asa kasa awon eyan ko odo awon oyinbo tiko mu ...  \n",
       "4          èébú kọọkan yẹyẹ fiwọn sílẹ ta àwa ọwọ òs  "
      ]
     },
     "metadata": {},
     "output_type": "display_data"
    },
    {
     "name": "stdout",
     "output_type": "stream",
     "text": [
      "\n",
      "\n"
     ]
    }
   ],
   "source": [
    "# Print the first 5 rows of the train data\n",
    "\n",
    "print('Hausa Train Data')\n",
    "display(train_data['hausa'].head())\n",
    "\n",
    "print('\\n')\n",
    "print('Igbo Train Data')\n",
    "display(train_data['igbo'].head())\n",
    "\n",
    "print('\\n')\n",
    "print('Yoruba Train Data')\n",
    "display(train_data['yoruba'].head())\n",
    "\n",
    "print('\\n')"
   ]
  },
  {
   "cell_type": "markdown",
   "metadata": {},
   "source": [
    "# DATA VISUALIZATION"
   ]
  },
  {
   "cell_type": "code",
   "execution_count": 250,
   "metadata": {},
   "outputs": [
    {
     "data": {
      "image/png": "[encoded data removed]",
      "text/plain": [
       "<Figure size 1500x500 with 3 Axes>"
      ]
     },
     "metadata": {},
     "output_type": "display_data"
    },
    {
     "data": {
      "image/png": "[encoded data removed]",
      "text/plain": [
       "<Figure size 1500x500 with 3 Axes>"
      ]
     },
     "metadata": {},
     "output_type": "display_data"
    },
    {
     "data": {
      "image/png": "[encoded data removed]",
      "text/plain": [
       "<Figure size 1500x500 with 3 Axes>"
      ]
     },
     "metadata": {},
     "output_type": "display_data"
    }
   ],
   "source": [
    "# Plot the distribution of the labels in the train data\n",
    "fig, ax = plt.subplots(1, 3, figsize=(15, 5))\n",
    "for i, lang in enumerate(languages):\n",
    "    sns.countplot(x='label', data=train_data[lang], ax=ax[i]).set_title(f'{lang} train Data label distribution')\n",
    "plt.show()\n",
    "\n",
    "# Plot the distribution of the labels in the dev data\n",
    "fig, ax = plt.subplots(1, 3, figsize=(15, 5))\n",
    "for i, lang in enumerate(languages):\n",
    "    sns.countplot(x='label', data=dev_data[lang], ax=ax[i]).set_title(f'{lang} dev data label distribution')\n",
    "plt.show()\n",
    "    \n",
    "# Plot the distribution of the labels in the test data\n",
    "fig, ax = plt.subplots(1, 3, figsize=(15, 5))\n",
    "for i, lang in enumerate(languages):\n",
    "    sns.countplot(x='label', data=test_data[lang], ax=ax[i]).set_title(f'{lang} test data label distribution')\n",
    "plt.show()\n",
    "    \n"
   ]
  },
  {
   "cell_type": "code",
   "execution_count": 254,
   "metadata": {},
   "outputs": [
    {
     "data": {
      "image/png": "[encoded data removed]",
      "text/plain": [
       "<Figure size 1000x500 with 1 Axes>"
      ]
     },
     "metadata": {},
     "output_type": "display_data"
    },
    {
     "data": {
      "image/png": "[encoded data removed]",
      "text/plain": [
       "<Figure size 1000x500 with 1 Axes>"
      ]
     },
     "metadata": {},
     "output_type": "display_data"
    },
    {
     "data": {
      "image/png": "[encoded data removed]",
      "text/plain": [
       "<Figure size 1000x500 with 1 Axes>"
      ]
     },
     "metadata": {},
     "output_type": "display_data"
    },
    {
     "data": {
      "image/png": "[encoded data removed]",
      "text/plain": [
       "<Figure size 1000x500 with 1 Axes>"
      ]
     },
     "metadata": {},
     "output_type": "display_data"
    },
    {
     "data": {
      "image/png": "[encoded data removed]",
      "text/plain": [
       "<Figure size 1000x500 with 1 Axes>"
      ]
     },
     "metadata": {},
     "output_type": "display_data"
    },
    {
     "data": {
      "image/png": "[encoded data removed]",
      "text/plain": [
       "<Figure size 1000x500 with 1 Axes>"
      ]
     },
     "metadata": {},
     "output_type": "display_data"
    },
    {
     "data": {
      "image/png": "[encoded data removed]",
      "text/plain": [
       "<Figure size 1000x500 with 1 Axes>"
      ]
     },
     "metadata": {},
     "output_type": "display_data"
    },
    {
     "data": {
      "image/png": "[encoded data removed]",
      "text/plain": [
       "<Figure size 1000x500 with 1 Axes>"
      ]
     },
     "metadata": {},
     "output_type": "display_data"
    },
    {
     "data": {
      "image/png": "[encoded data removed]",
      "text/plain": [
       "<Figure size 1000x500 with 1 Axes>"
      ]
     },
     "metadata": {},
     "output_type": "display_data"
    }
   ],
   "source": [
    "# Function to get most common words\n",
    "def get_most_common_words(texts, n=10):\n",
    "    all_words = ' '.join(texts).split()\n",
    "    common_words = Counter(all_words).most_common(n)\n",
    "    return common_words\n",
    "\n",
    "# Loop over the languages\n",
    "for lang in languages:\n",
    "    # Loop over the sentiment labels\n",
    "    for label in train_data[lang]['label'].unique():\n",
    "        # Get the texts for the current label\n",
    "        texts = train_data[lang][train_data[lang]['label'] == label]['clean_w/o_sw']\n",
    "        \n",
    "        # Get the most common words\n",
    "        common_words = get_most_common_words(texts)\n",
    "        \n",
    "        # Plot the most common words\n",
    "        plt.figure(figsize=(10, 5))\n",
    "        plt.bar(*zip(*common_words))\n",
    "        plt.title(f'Most Common Words for Label {label} in {lang} Train Data')\n",
    "        plt.show()"
   ]
  },
  {
   "cell_type": "markdown",
   "metadata": {},
   "source": [
    "### FEATURE EXTRACTION - BAG OF WORDS MODEL\n",
    "- COUNT VECTORIZER\n",
    "- TF-IDF"
   ]
  },
  {
   "cell_type": "code",
   "execution_count": 42,
   "metadata": {},
   "outputs": [
    {
     "name": "stdout",
     "output_type": "stream",
     "text": [
      "Shape of X_train_bow for hausa: (14172, 21786)\n",
      "Shape of X_dev_bow for hausa: (2677, 21786)\n",
      "Shape of X_test_bow for hausa: (5303, 21786)\n",
      "Shape of X_train_bow for igbo: (10192, 15503)\n",
      "Shape of X_dev_bow for igbo: (1841, 15503)\n",
      "Shape of X_test_bow for igbo: (3682, 15503)\n",
      "Shape of X_train_bow for yoruba: (8522, 22317)\n",
      "Shape of X_dev_bow for yoruba: (2090, 22317)\n",
      "Shape of X_test_bow for yoruba: (4515, 22317)\n"
     ]
    }
   ],
   "source": [
    "from sklearn.feature_extraction.text import CountVectorizer\n",
    "\n",
    "# Initialize CountVectorizer\n",
    "vectorizer = CountVectorizer()\n",
    "\n",
    "# Fit and transform the preprocessed text data to obtain BoW features\n",
    "X_train_bow = {}\n",
    "X_dev_bow = {}\n",
    "X_test_bow = {}\n",
    "\n",
    "for lang in languages:\n",
    "    X_train_bow[lang] = vectorizer.fit_transform(train_data[lang]['clean_tweet'])\n",
    "    X_dev_bow[lang] = vectorizer.transform(dev_data[lang]['clean_tweet'])\n",
    "    X_test_bow[lang] = vectorizer.transform(test_data[lang]['clean_tweet'])\n",
    "\n",
    "# Display the shape of the obtained feature matrices\n",
    "for lang in languages:\n",
    "    print(f\"Shape of X_train_bow for {lang}:\", X_train_bow[lang].shape)\n",
    "    print(f\"Shape of X_dev_bow for {lang}:\", X_dev_bow[lang].shape)\n",
    "    print(f\"Shape of X_test_bow for {lang}:\", X_test_bow[lang].shape)"
   ]
  },
  {
   "cell_type": "code",
   "execution_count": 43,
   "metadata": {},
   "outputs": [
    {
     "name": "stdout",
     "output_type": "stream",
     "text": [
      "Shape of X_train_tfidf for hausa: (14172, 21786)\n",
      "Shape of X_dev_tfidf for hausa: (2677, 21786)\n",
      "Shape of X_test_tfidf for hausa: (5303, 21786)\n",
      "Shape of X_train_tfidf for igbo: (10192, 15503)\n",
      "Shape of X_dev_tfidf for igbo: (1841, 15503)\n",
      "Shape of X_test_tfidf for igbo: (3682, 15503)\n",
      "Shape of X_train_tfidf for yoruba: (8522, 22317)\n",
      "Shape of X_dev_tfidf for yoruba: (2090, 22317)\n",
      "Shape of X_test_tfidf for yoruba: (4515, 22317)\n"
     ]
    }
   ],
   "source": [
    "# Initialize TfidfVectorizer\n",
    "tfidf_vectorizer = TfidfVectorizer()\n",
    "\n",
    "# Fit and transform the preprocessed text data to obtain tf-idf features\n",
    "X_train_tfidf = {}\n",
    "X_dev_tfidf = {}\n",
    "X_test_tfidf = {}\n",
    "\n",
    "for lang in languages:\n",
    "    X_train_tfidf[lang] = tfidf_vectorizer.fit_transform(train_data[lang]['clean_tweet'])\n",
    "    X_dev_tfidf[lang] = tfidf_vectorizer.transform(dev_data[lang]['clean_tweet'])\n",
    "    X_test_tfidf[lang] = tfidf_vectorizer.transform(test_data[lang]['clean_tweet'])\n",
    "\n",
    "# Display the shape of the obtained feature matrices\n",
    "for lang in languages:\n",
    "    print(f\"Shape of X_train_tfidf for {lang}:\", X_train_tfidf[lang].shape)\n",
    "    print(f\"Shape of X_dev_tfidf for {lang}:\", X_dev_tfidf[lang].shape)\n",
    "    print(f\"Shape of X_test_tfidf for {lang}:\", X_test_tfidf[lang].shape)"
   ]
  },
  {
   "cell_type": "markdown",
   "metadata": {},
   "source": [
    "## MODELING WITH STOPWORDS\n",
    "\n",
    "- LOGISTIC REGRESSION\n",
    "- NAIVE BAYES"
   ]
  },
  {
   "cell_type": "code",
   "execution_count": 44,
   "metadata": {},
   "outputs": [],
   "source": [
    "# Create a function to train a logistic regression model with the given feature matrix and labels\n",
    "def train_logistic_regression(X, y):\n",
    "    model = LogisticRegression(max_iter=1000)\n",
    "    model.fit(X, y)\n",
    "    return model\n",
    "\n",
    "# Create a function to train a naive bayes model with the given feature matrix and labels\n",
    "def train_naive_bayes(X, y):\n",
    "    model = MultinomialNB()\n",
    "    model.fit(X, y)\n",
    "    return model\n",
    "\n",
    "# Create a function to make predictions using the given model and feature matrix\n",
    "def predict(model, X):\n",
    "    return model.predict(X)\n",
    "\n",
    "# Create a function to evaluate the given model using the given feature matrix and labels\n",
    "def evaluate_model(model, X, y):\n",
    "    y_pred = predict(model, X)\n",
    "    return accuracy_score(y, y_pred)   "
   ]
  },
  {
   "cell_type": "markdown",
   "metadata": {},
   "source": [
    "### Using TF-IDF Vectorizer"
   ]
  },
  {
   "cell_type": "code",
   "execution_count": 45,
   "metadata": {},
   "outputs": [
    {
     "name": "stdout",
     "output_type": "stream",
     "text": [
      "Logistic Regression hausa:\n",
      "  Train Accuracy: 0.8777166243296641\n",
      "  Dev Accuracy: 0.7411281285020546\n",
      "  Train F1: 0.8779958449842123\n",
      "  Dev F1: 0.7425951212248271\n",
      "\n",
      "Logistic Regression igbo:\n",
      "  Train Accuracy: 0.8794152276295133\n",
      "  Dev Accuracy: 0.7756653992395437\n",
      "  Train F1: 0.8787426702179341\n",
      "  Dev F1: 0.7734517566326111\n",
      "\n",
      "Logistic Regression yoruba:\n",
      "  Train Accuracy: 0.8945083313776109\n",
      "  Dev Accuracy: 0.7282296650717703\n",
      "  Train F1: 0.8934695872082488\n",
      "  Dev F1: 0.7226201914705704\n",
      "\n",
      "Naive Bayes hausa:\n",
      "  Train Accuracy: 0.885196161445103\n",
      "  Dev Accuracy: 0.7119910347403811\n",
      "  Train F1: 0.8853732637904413\n",
      "  Dev F1: 0.7116703746191543\n",
      "\n",
      "Naive Bayes igbo:\n",
      "  Train Accuracy: 0.8296703296703297\n",
      "  Dev Accuracy: 0.7289516567083107\n",
      "  Train F1: 0.8250770866240541\n",
      "  Dev F1: 0.716594059711598\n",
      "\n",
      "Naive Bayes yoruba:\n",
      "  Train Accuracy: 0.7749354611593523\n",
      "  Dev Accuracy: 0.6588516746411484\n",
      "  Train F1: 0.7489836303649237\n",
      "  Dev F1: 0.6084438500952356\n",
      "\n"
     ]
    }
   ],
   "source": [
    "# Train and evaluate Logistic Regression model\n",
    "logistic_regression_models = {}\n",
    "logistic_regression_scores = {}\n",
    "for lang in languages:\n",
    "    model = train_logistic_regression(X_train_tfidf[lang], train_data[lang]['label'])\n",
    "    logistic_regression_models[lang] = model\n",
    "\n",
    "    train_accuracy = model.score(X_train_tfidf[lang], train_data[lang]['label'])\n",
    "    dev_accuracy = model.score(X_dev_tfidf[lang], dev_data[lang]['label'])\n",
    "\n",
    "    train_pred = model.predict(X_train_tfidf[lang])\n",
    "    dev_pred = model.predict(X_dev_tfidf[lang])\n",
    "\n",
    "    train_f1 = f1_score(train_data[lang]['label'], train_pred, average='weighted')\n",
    "    dev_f1 = f1_score(dev_data[lang]['label'], dev_pred, average='weighted')\n",
    "\n",
    "    print(f\"Logistic Regression {lang}:\\n\"\n",
    "          f\"  Train Accuracy: {train_accuracy}\\n\"\n",
    "          f\"  Dev Accuracy: {dev_accuracy}\\n\"\n",
    "          f\"  Train F1: {train_f1}\\n\"\n",
    "          f\"  Dev F1: {dev_f1}\\n\")\n",
    "\n",
    "# Train and evaluate Naive Bayes models\n",
    "naive_bayes_models = {}\n",
    "naive_bayes_scores = {}\n",
    "for lang in languages:\n",
    "    model = train_naive_bayes(X_train_tfidf[lang], train_data[lang]['label'])\n",
    "    naive_bayes_models[lang] = model\n",
    "\n",
    "    train_accuracy = model.score(X_train_tfidf[lang], train_data[lang]['label'])\n",
    "    dev_accuracy = model.score(X_dev_tfidf[lang], dev_data[lang]['label'])\n",
    "\n",
    "    train_pred = model.predict(X_train_tfidf[lang])\n",
    "    dev_pred = model.predict(X_dev_tfidf[lang])\n",
    "\n",
    "    train_f1 = f1_score(train_data[lang]['label'], train_pred, average='weighted')\n",
    "    dev_f1 = f1_score(dev_data[lang]['label'], dev_pred, average='weighted')\n",
    "\n",
    "    print(f\"Naive Bayes {lang}:\\n\"\n",
    "          f\"  Train Accuracy: {train_accuracy}\\n\"\n",
    "          f\"  Dev Accuracy: {dev_accuracy}\\n\"\n",
    "          f\"  Train F1: {train_f1}\\n\"\n",
    "          f\"  Dev F1: {dev_f1}\\n\")"
   ]
  },
  {
   "cell_type": "markdown",
   "metadata": {},
   "source": [
    "### Using the Count Vecorizer"
   ]
  },
  {
   "cell_type": "code",
   "execution_count": 46,
   "metadata": {},
   "outputs": [
    {
     "name": "stdout",
     "output_type": "stream",
     "text": [
      "Logistic Regression hausa:\n",
      "  Train Accuracy: 0.9575924357888794\n",
      "  Dev Accuracy: 0.7415016809861785\n",
      "  Train F1: 0.9576414307765619\n",
      "  Dev F1: 0.7422152658896894\n",
      "\n",
      "Logistic Regression igbo:\n",
      "  Train Accuracy: 0.9489795918367347\n",
      "  Dev Accuracy: 0.77729494839761\n",
      "  Train F1: 0.9489242039418783\n",
      "  Dev F1: 0.7767956415068492\n",
      "\n",
      "Logistic Regression yoruba:\n",
      "  Train Accuracy: 0.9888523820699366\n",
      "  Dev Accuracy: 0.7339712918660287\n",
      "  Train F1: 0.9888457022002426\n",
      "  Dev F1: 0.7303439730866059\n",
      "\n",
      "Naive Bayes hausa:\n",
      "  Train Accuracy: 0.8688964154671183\n",
      "  Dev Accuracy: 0.7071348524467688\n",
      "  Train F1: 0.8689547082690047\n",
      "  Dev F1: 0.7040037086472846\n",
      "\n",
      "Naive Bayes igbo:\n",
      "  Train Accuracy: 0.8780416012558869\n",
      "  Dev Accuracy: 0.755024443237371\n",
      "  Train F1: 0.8773119280962959\n",
      "  Dev F1: 0.7499454746454988\n",
      "\n",
      "Naive Bayes yoruba:\n",
      "  Train Accuracy: 0.8705702886646327\n",
      "  Dev Accuracy: 0.722488038277512\n",
      "  Train F1: 0.8702229577446456\n",
      "  Dev F1: 0.7160332587225354\n",
      "\n"
     ]
    }
   ],
   "source": [
    "\n",
    "# Train and evaluate logistic regression models\n",
    "logistic_regression_models = {}\n",
    "logistic_regression_scores = {}\n",
    "for lang in languages:\n",
    "    model = train_logistic_regression(X_train_bow[lang], train_data[lang]['label'])\n",
    "    logistic_regression_models[lang] = model\n",
    "\n",
    "    train_accuracy = model.score(X_train_bow[lang], train_data[lang]['label'])\n",
    "    dev_accuracy = model.score(X_dev_bow[lang], dev_data[lang]['label'])\n",
    "\n",
    "    train_pred = model.predict(X_train_bow[lang])\n",
    "    dev_pred = model.predict(X_dev_bow[lang])\n",
    "\n",
    "    train_f1 = f1_score(train_data[lang]['label'], train_pred, average='weighted')\n",
    "    dev_f1 = f1_score(dev_data[lang]['label'], dev_pred, average='weighted')\n",
    "\n",
    "    print(f\"Logistic Regression {lang}:\\n\"\n",
    "          f\"  Train Accuracy: {train_accuracy}\\n\"\n",
    "          f\"  Dev Accuracy: {dev_accuracy}\\n\"\n",
    "          f\"  Train F1: {train_f1}\\n\"\n",
    "          f\"  Dev F1: {dev_f1}\\n\")\n",
    "\n",
    "# Train and evaluate naive bayes models\n",
    "naive_bayes_models = {}\n",
    "naive_bayes_scores = {}\n",
    "for lang in languages:\n",
    "    model = train_naive_bayes(X_train_bow[lang], train_data[lang]['label'])\n",
    "    naive_bayes_models[lang] = model\n",
    "\n",
    "    train_accuracy = model.score(X_train_bow[lang], train_data[lang]['label'])\n",
    "    dev_accuracy = model.score(X_dev_bow[lang], dev_data[lang]['label'])\n",
    "\n",
    "    train_pred = model.predict(X_train_bow[lang])\n",
    "    dev_pred = model.predict(X_dev_bow[lang])\n",
    "\n",
    "    train_f1 = f1_score(train_data[lang]['label'], train_pred, average='weighted')\n",
    "    dev_f1 = f1_score(dev_data[lang]['label'], dev_pred, average='weighted')\n",
    "\n",
    "    print(f\"Naive Bayes {lang}:\\n\"\n",
    "          f\"  Train Accuracy: {train_accuracy}\\n\"\n",
    "          f\"  Dev Accuracy: {dev_accuracy}\\n\"\n",
    "          f\"  Train F1: {train_f1}\\n\"\n",
    "          f\"  Dev F1: {dev_f1}\\n\")"
   ]
  },
  {
   "cell_type": "markdown",
   "metadata": {},
   "source": [
    "### Evaluating Moddels on Test data\n",
    "- TF-IDF"
   ]
  },
  {
   "cell_type": "code",
   "execution_count": 47,
   "metadata": {},
   "outputs": [
    {
     "name": "stdout",
     "output_type": "stream",
     "text": [
      "Classification Report for Logistic Regression hausa:\n",
      "               precision    recall  f1-score   support\n",
      "\n",
      "           0       0.90      0.23      0.36      1759\n",
      "           1       0.41      0.99      0.58      1789\n",
      "           2       0.98      0.33      0.49      1755\n",
      "\n",
      "    accuracy                           0.52      5303\n",
      "   macro avg       0.76      0.51      0.48      5303\n",
      "weighted avg       0.76      0.52      0.48      5303\n",
      "\n",
      "Classification Report for Logistic Regression igbo:\n",
      "               precision    recall  f1-score   support\n",
      "\n",
      "           0       0.81      0.57      0.67       943\n",
      "           1       0.63      0.94      0.75      1621\n",
      "           2       0.95      0.51      0.67      1118\n",
      "\n",
      "    accuracy                           0.71      3682\n",
      "   macro avg       0.80      0.67      0.70      3682\n",
      "weighted avg       0.77      0.71      0.70      3682\n",
      "\n",
      "Classification Report for Logistic Regression yoruba:\n",
      "               precision    recall  f1-score   support\n",
      "\n",
      "           0       0.88      0.12      0.22       981\n",
      "           1       0.55      0.90      0.68      1616\n",
      "           2       0.80      0.74      0.77      1918\n",
      "\n",
      "    accuracy                           0.66      4515\n",
      "   macro avg       0.75      0.59      0.56      4515\n",
      "weighted avg       0.73      0.66      0.62      4515\n",
      "\n",
      "Classification Report for Naive Bayes hausa:\n",
      "               precision    recall  f1-score   support\n",
      "\n",
      "           0       0.66      0.74      0.70      1759\n",
      "           1       0.67      0.62      0.64      1789\n",
      "           2       0.83      0.77      0.80      1755\n",
      "\n",
      "    accuracy                           0.71      5303\n",
      "   macro avg       0.72      0.71      0.71      5303\n",
      "weighted avg       0.72      0.71      0.71      5303\n",
      "\n",
      "Classification Report for Naive Bayes igbo:\n",
      "               precision    recall  f1-score   support\n",
      "\n",
      "           0       0.84      0.51      0.63       943\n",
      "           1       0.67      0.89      0.76      1621\n",
      "           2       0.85      0.71      0.77      1118\n",
      "\n",
      "    accuracy                           0.74      3682\n",
      "   macro avg       0.78      0.70      0.72      3682\n",
      "weighted avg       0.77      0.74      0.73      3682\n",
      "\n",
      "Classification Report for Naive Bayes yoruba:\n",
      "               precision    recall  f1-score   support\n",
      "\n",
      "           0       0.78      0.38      0.51       981\n",
      "           1       0.69      0.73      0.71      1616\n",
      "           2       0.71      0.85      0.77      1918\n",
      "\n",
      "    accuracy                           0.71      4515\n",
      "   macro avg       0.72      0.65      0.66      4515\n",
      "weighted avg       0.71      0.71      0.69      4515\n",
      "\n"
     ]
    }
   ],
   "source": [
    "# Predict the labels of the test data using the logistic regression models\n",
    "logistic_regression_test_preds = {}\n",
    "for lang in languages:\n",
    "    model = logistic_regression_models[lang]\n",
    "    logistic_regression_test_preds[lang] = model.predict(X_test_tfidf[lang])\n",
    "\n",
    "# Predict the labels of the test data using the naive bayes models\n",
    "naive_bayes_test_preds = {}\n",
    "for lang in languages:\n",
    "    model = naive_bayes_models[lang]\n",
    "    naive_bayes_test_preds[lang] = model.predict(X_test_tfidf[lang])\n",
    "\n",
    "# Print the classification report for the logistic regression models\n",
    "for lang in languages:\n",
    "    print(f\"Classification Report for Logistic Regression {lang}:\\n\", classification_report(test_data[lang]['label'], logistic_regression_test_preds[lang]))\n",
    "    \n",
    "# Print the classification report for the naive bayes models\n",
    "for lang in languages:\n",
    "    print(f\"Classification Report for Naive Bayes {lang}:\\n\", classification_report(test_data[lang]['label'], naive_bayes_test_preds[lang]))\n",
    "    "
   ]
  },
  {
   "cell_type": "markdown",
   "metadata": {},
   "source": [
    "### Evaluating Moddels on Test data\n",
    "- Count Vectorizer"
   ]
  },
  {
   "cell_type": "code",
   "execution_count": 48,
   "metadata": {},
   "outputs": [
    {
     "name": "stdout",
     "output_type": "stream",
     "text": [
      "Classification Report for Logistic Regression hausa:\n",
      "               precision    recall  f1-score   support\n",
      "\n",
      "           0       0.77      0.65      0.71      1759\n",
      "           1       0.67      0.80      0.73      1789\n",
      "           2       0.83      0.81      0.82      1755\n",
      "\n",
      "    accuracy                           0.75      5303\n",
      "   macro avg       0.76      0.75      0.75      5303\n",
      "weighted avg       0.76      0.75      0.75      5303\n",
      "\n",
      "Classification Report for Logistic Regression igbo:\n",
      "               precision    recall  f1-score   support\n",
      "\n",
      "           0       0.74      0.67      0.71       943\n",
      "           1       0.75      0.84      0.79      1621\n",
      "           2       0.86      0.78      0.82      1118\n",
      "\n",
      "    accuracy                           0.78      3682\n",
      "   macro avg       0.78      0.76      0.77      3682\n",
      "weighted avg       0.78      0.78      0.78      3682\n",
      "\n",
      "Classification Report for Logistic Regression yoruba:\n",
      "               precision    recall  f1-score   support\n",
      "\n",
      "           0       0.66      0.58      0.61       981\n",
      "           1       0.71      0.73      0.72      1616\n",
      "           2       0.78      0.81      0.80      1918\n",
      "\n",
      "    accuracy                           0.73      4515\n",
      "   macro avg       0.72      0.71      0.71      4515\n",
      "weighted avg       0.73      0.73      0.73      4515\n",
      "\n",
      "Classification Report for Naive Bayes hausa:\n",
      "               precision    recall  f1-score   support\n",
      "\n",
      "           0       0.64      0.78      0.70      1759\n",
      "           1       0.71      0.56      0.63      1789\n",
      "           2       0.82      0.81      0.81      1755\n",
      "\n",
      "    accuracy                           0.72      5303\n",
      "   macro avg       0.72      0.72      0.71      5303\n",
      "weighted avg       0.72      0.72      0.71      5303\n",
      "\n",
      "Classification Report for Naive Bayes igbo:\n",
      "               precision    recall  f1-score   support\n",
      "\n",
      "           0       0.82      0.55      0.66       943\n",
      "           1       0.70      0.87      0.78      1621\n",
      "           2       0.82      0.77      0.79      1118\n",
      "\n",
      "    accuracy                           0.76      3682\n",
      "   macro avg       0.78      0.73      0.74      3682\n",
      "weighted avg       0.77      0.76      0.75      3682\n",
      "\n",
      "Classification Report for Naive Bayes yoruba:\n",
      "               precision    recall  f1-score   support\n",
      "\n",
      "           0       0.72      0.44      0.55       981\n",
      "           1       0.67      0.75      0.71      1616\n",
      "           2       0.75      0.81      0.78      1918\n",
      "\n",
      "    accuracy                           0.71      4515\n",
      "   macro avg       0.71      0.67      0.68      4515\n",
      "weighted avg       0.71      0.71      0.70      4515\n",
      "\n"
     ]
    }
   ],
   "source": [
    "# Predict the labels of the test data using the logistic regression models\n",
    "logistic_regression_test_preds = {}\n",
    "for lang in languages:\n",
    "    model = logistic_regression_models[lang]\n",
    "    logistic_regression_test_preds[lang] = model.predict(X_test_bow[lang])\n",
    "\n",
    "# Predict the labels of the test data using the naive bayes models\n",
    "naive_bayes_test_preds = {}\n",
    "for lang in languages:\n",
    "    model = naive_bayes_models[lang]\n",
    "    naive_bayes_test_preds[lang] = model.predict(X_test_bow[lang])\n",
    "\n",
    "# Print the classification report for the logistic regression models\n",
    "for lang in languages:\n",
    "    print(f\"Classification Report for Logistic Regression {lang}:\\n\", classification_report(test_data[lang]['label'], logistic_regression_test_preds[lang]))\n",
    "    \n",
    "# Print the classification report for the naive bayes models\n",
    "for lang in languages:\n",
    "    print(f\"Classification Report for Naive Bayes {lang}:\\n\", classification_report(test_data[lang]['label'], naive_bayes_test_preds[lang]))\n",
    "    "
   ]
  },
  {
   "cell_type": "markdown",
   "metadata": {},
   "source": [
    "### MODELING WITHOUT STOPWORDS\n"
   ]
  },
  {
   "cell_type": "code",
   "execution_count": 49,
   "metadata": {},
   "outputs": [
    {
     "name": "stdout",
     "output_type": "stream",
     "text": [
      "Shape of X_train_bow for hausa: (14172, 21726)\n",
      "Shape of X_dev_bow for hausa: (2677, 21726)\n",
      "Shape of X_test_bow for hausa: (5303, 21726)\n",
      "Shape of X_train_bow for igbo: (10192, 15450)\n",
      "Shape of X_dev_bow for igbo: (1841, 15450)\n",
      "Shape of X_test_bow for igbo: (3682, 15450)\n",
      "Shape of X_train_bow for yoruba: (8522, 22269)\n",
      "Shape of X_dev_bow for yoruba: (2090, 22269)\n",
      "Shape of X_test_bow for yoruba: (4515, 22269)\n"
     ]
    }
   ],
   "source": [
    "# Initialize CountVectorizer\n",
    "vectorizer = CountVectorizer()\n",
    "\n",
    "# Fit and transform the preprocessed text data to obtain BoW features\n",
    "X_train_bow = {}\n",
    "X_dev_bow = {}\n",
    "X_test_bow = {}\n",
    "\n",
    "for lang in languages:\n",
    "    X_train_bow[lang] = vectorizer.fit_transform(train_data[lang]['clean_w/o_sw'])\n",
    "    X_dev_bow[lang] = vectorizer.transform(dev_data[lang]['clean_w/o_sw'])\n",
    "    X_test_bow[lang] = vectorizer.transform(test_data[lang]['clean_w/o_sw'])\n",
    "\n",
    "# Display the shape of the obtained feature matrices\n",
    "for lang in languages:\n",
    "    print(f\"Shape of X_train_bow for {lang}:\", X_train_bow[lang].shape)\n",
    "    print(f\"Shape of X_dev_bow for {lang}:\", X_dev_bow[lang].shape)\n",
    "    print(f\"Shape of X_test_bow for {lang}:\", X_test_bow[lang].shape)"
   ]
  },
  {
   "cell_type": "code",
   "execution_count": 50,
   "metadata": {},
   "outputs": [
    {
     "name": "stdout",
     "output_type": "stream",
     "text": [
      "Shape of X_train_tfidf for hausa: (14172, 21726)\n",
      "Shape of X_dev_tfidf for hausa: (2677, 21726)\n",
      "Shape of X_test_tfidf for hausa: (5303, 21726)\n",
      "Shape of X_train_tfidf for igbo: (10192, 15450)\n",
      "Shape of X_dev_tfidf for igbo: (1841, 15450)\n",
      "Shape of X_test_tfidf for igbo: (3682, 15450)\n",
      "Shape of X_train_tfidf for yoruba: (8522, 22269)\n",
      "Shape of X_dev_tfidf for yoruba: (2090, 22269)\n",
      "Shape of X_test_tfidf for yoruba: (4515, 22269)\n"
     ]
    }
   ],
   "source": [
    "# Initialize TfidfVectorizer\n",
    "tfidf_vectorizer = TfidfVectorizer()\n",
    "\n",
    "# Fit and transform the preprocessed text data to obtain tf-idf features\n",
    "X_train_tfidf = {}\n",
    "X_dev_tfidf = {}\n",
    "X_test_tfidf = {}\n",
    "\n",
    "for lang in languages:\n",
    "    X_train_tfidf[lang] = tfidf_vectorizer.fit_transform(train_data[lang]['clean_w/o_sw'])\n",
    "    X_dev_tfidf[lang] = tfidf_vectorizer.transform(dev_data[lang]['clean_w/o_sw'])\n",
    "    X_test_tfidf[lang] = tfidf_vectorizer.transform(test_data[lang]['clean_w/o_sw'])\n",
    "\n",
    "# Display the shape of the obtained feature matrices\n",
    "for lang in languages:\n",
    "    print(f\"Shape of X_train_tfidf for {lang}:\", X_train_tfidf[lang].shape)\n",
    "    print(f\"Shape of X_dev_tfidf for {lang}:\", X_dev_tfidf[lang].shape)\n",
    "    print(f\"Shape of X_test_tfidf for {lang}:\", X_test_tfidf[lang].shape)"
   ]
  },
  {
   "cell_type": "markdown",
   "metadata": {},
   "source": [
    "### Define Model Training and Evaluation Functions"
   ]
  },
  {
   "cell_type": "code",
   "execution_count": 51,
   "metadata": {},
   "outputs": [],
   "source": [
    "# Create a function to train a logistic regression model with the given feature matrix and labels\n",
    "def train_logistic_regression(X, y):\n",
    "    model = LogisticRegression(max_iter=1000)\n",
    "    model.fit(X, y)\n",
    "    return model\n",
    "\n",
    "# Create a function to train a naive bayes model with the given feature matrix and labels\n",
    "def train_naive_bayes(X, y):\n",
    "    model = MultinomialNB()\n",
    "    model.fit(X, y)\n",
    "    return model\n",
    "\n",
    "# Create a function to make predictions using the given model and feature matrix\n",
    "def predict(model, X):\n",
    "    return model.predict(X)\n",
    "\n",
    "# Create a function to evaluate the given model using the given feature matrix and labels\n",
    "def evaluate_model(model, X, y):\n",
    "    y_pred = predict(model, X)\n",
    "    return accuracy_score(y, y_pred)   "
   ]
  },
  {
   "cell_type": "markdown",
   "metadata": {},
   "source": [
    "### Modeling with TF-IDF"
   ]
  },
  {
   "cell_type": "code",
   "execution_count": 52,
   "metadata": {},
   "outputs": [
    {
     "name": "stdout",
     "output_type": "stream",
     "text": [
      "Logistic Regression hausa:\n",
      "  Train Accuracy: 0.8866073948631104\n",
      "  Dev Accuracy: 0.7015315651849084\n",
      "  Train F1: 0.8868888391453321\n",
      "  Dev F1: 0.7029105150706791\n",
      "\n",
      "Logistic Regression igbo:\n",
      "  Train Accuracy: 0.8783359497645212\n",
      "  Dev Accuracy: 0.7419880499728408\n",
      "  Train F1: 0.8775596518724665\n",
      "  Dev F1: 0.7378588950446376\n",
      "\n",
      "Logistic Regression yoruba:\n",
      "  Train Accuracy: 0.9135179535320347\n",
      "  Dev Accuracy: 0.7129186602870813\n",
      "  Train F1: 0.9126952186150823\n",
      "  Dev F1: 0.705114056094667\n",
      "\n",
      "Naive Bayes hausa:\n",
      "  Train Accuracy: 0.8833615580016935\n",
      "  Dev Accuracy: 0.6970489353754202\n",
      "  Train F1: 0.8835064840970468\n",
      "  Dev F1: 0.6970534160944375\n",
      "\n",
      "Naive Bayes igbo:\n",
      "  Train Accuracy: 0.8443877551020408\n",
      "  Dev Accuracy: 0.7218902770233568\n",
      "  Train F1: 0.8419764430094672\n",
      "  Dev F1: 0.7120118783140176\n",
      "\n",
      "Naive Bayes yoruba:\n",
      "  Train Accuracy: 0.7992255339122272\n",
      "  Dev Accuracy: 0.6578947368421053\n",
      "  Train F1: 0.7804989161140935\n",
      "  Dev F1: 0.6131479885194727\n",
      "\n"
     ]
    }
   ],
   "source": [
    "\n",
    "# Train and evaluate logistic regression models\n",
    "logistic_regression_models = {}\n",
    "logistic_regression_scores = {}\n",
    "for lang in languages:\n",
    "    model = train_logistic_regression(X_train_tfidf[lang], train_data[lang]['label'])\n",
    "    logistic_regression_models[lang] = model\n",
    "\n",
    "    train_accuracy = model.score(X_train_tfidf[lang], train_data[lang]['label'])\n",
    "    dev_accuracy = model.score(X_dev_tfidf[lang], dev_data[lang]['label'])\n",
    "\n",
    "    train_pred = model.predict(X_train_tfidf[lang])\n",
    "    dev_pred = model.predict(X_dev_tfidf[lang])\n",
    "\n",
    "    train_f1 = f1_score(train_data[lang]['label'], train_pred, average='weighted')\n",
    "    dev_f1 = f1_score(dev_data[lang]['label'], dev_pred, average='weighted')\n",
    "\n",
    "    print(f\"Logistic Regression {lang}:\\n\"\n",
    "          f\"  Train Accuracy: {train_accuracy}\\n\"\n",
    "          f\"  Dev Accuracy: {dev_accuracy}\\n\"\n",
    "          f\"  Train F1: {train_f1}\\n\"\n",
    "          f\"  Dev F1: {dev_f1}\\n\")\n",
    "\n",
    "# Train and evaluate naive bayes models\n",
    "naive_bayes_models = {}\n",
    "naive_bayes_scores = {}\n",
    "for lang in languages:\n",
    "    model = train_naive_bayes(X_train_tfidf[lang], train_data[lang]['label'])\n",
    "    naive_bayes_models[lang] = model\n",
    "\n",
    "    train_accuracy = model.score(X_train_tfidf[lang], train_data[lang]['label'])\n",
    "    dev_accuracy = model.score(X_dev_tfidf[lang], dev_data[lang]['label'])\n",
    "\n",
    "    train_pred = model.predict(X_train_tfidf[lang])\n",
    "    dev_pred = model.predict(X_dev_tfidf[lang])\n",
    "\n",
    "    train_f1 = f1_score(train_data[lang]['label'], train_pred, average='weighted')\n",
    "    dev_f1 = f1_score(dev_data[lang]['label'], dev_pred, average='weighted')\n",
    "\n",
    "    print(f\"Naive Bayes {lang}:\\n\"\n",
    "          f\"  Train Accuracy: {train_accuracy}\\n\"\n",
    "          f\"  Dev Accuracy: {dev_accuracy}\\n\"\n",
    "          f\"  Train F1: {train_f1}\\n\"\n",
    "          f\"  Dev F1: {dev_f1}\\n\")"
   ]
  },
  {
   "cell_type": "markdown",
   "metadata": {},
   "source": [
    "### Evaluation on Test Set"
   ]
  },
  {
   "cell_type": "code",
   "execution_count": null,
   "metadata": {},
   "outputs": [],
   "source": [
    "# Predict the labels of the test data using the logistic regression models\n",
    "logistic_regression_test_preds = {}\n",
    "for lang in languages:\n",
    "    model = logistic_regression_models[lang]\n",
    "    logistic_regression_test_preds[lang] = model.predict(X_test_tfidf[lang])\n",
    "\n",
    "# Predict the labels of the test data using the naive bayes models\n",
    "naive_bayes_test_preds = {}\n",
    "for lang in languages:\n",
    "    model = naive_bayes_models[lang]\n",
    "    naive_bayes_test_preds[lang] = model.predict(X_test_tfidf[lang])\n",
    "\n",
    "# Print the classification report for the logistic regression models\n",
    "for lang in languages:\n",
    "    print(f\"Classification Report for Logistic Regression {lang}:\\n\", classification_report(test_data[lang]['label'], logistic_regression_test_preds[lang]))\n",
    "    \n",
    "# Print the classification report for the naive bayes models\n",
    "for lang in languages:\n",
    "    print(f\"Classification Report for Naive Bayes {lang}:\\n\", classification_report(test_data[lang]['label'], naive_bayes_test_preds[lang]))\n",
    "    "
   ]
  },
  {
   "cell_type": "markdown",
   "metadata": {},
   "source": [
    "### Modeling with Count Vectorizer"
   ]
  },
  {
   "cell_type": "code",
   "execution_count": 30,
   "metadata": {},
   "outputs": [
    {
     "name": "stdout",
     "output_type": "stream",
     "text": [
      "Logistic Regression hausa:\n",
      "  Train Accuracy: 0.9528648038385549\n",
      "  Dev Accuracy: 0.7119910347403811\n",
      "  Train F1: 0.9529677962476578\n",
      "  Dev F1: 0.7134524460883818\n",
      "\n",
      "Logistic Regression igbo:\n",
      "  Train Accuracy: 0.9399529042386185\n",
      "  Dev Accuracy: 0.7387289516567083\n",
      "  Train F1: 0.9398806069797435\n",
      "  Dev F1: 0.7369729254695583\n",
      "\n",
      "Logistic Regression yoruba:\n",
      "  Train Accuracy: 0.9889697254165689\n",
      "  Dev Accuracy: 0.7311004784688995\n",
      "  Train F1: 0.9889652417962265\n",
      "  Dev F1: 0.7269863544882406\n",
      "\n",
      "Naive Bayes hausa:\n",
      "  Train Accuracy: 0.8732006773920407\n",
      "  Dev Accuracy: 0.6892043332088158\n",
      "  Train F1: 0.8732085350968248\n",
      "  Dev F1: 0.6866137617828283\n",
      "\n",
      "Naive Bayes igbo:\n",
      "  Train Accuracy: 0.8740188383045526\n",
      "  Dev Accuracy: 0.7300380228136882\n",
      "  Train F1: 0.8734829901376021\n",
      "  Dev F1: 0.7256495982012163\n",
      "\n",
      "Naive Bayes yoruba:\n",
      "  Train Accuracy: 0.8895799108190565\n",
      "  Dev Accuracy: 0.7148325358851675\n",
      "  Train F1: 0.8892197660203095\n",
      "  Dev F1: 0.708627416641319\n",
      "\n"
     ]
    }
   ],
   "source": [
    "# Train and evaluate logistic regression models\n",
    "logistic_regression_models = {}\n",
    "logistic_regression_scores = {}\n",
    "for lang in languages:\n",
    "    model = train_logistic_regression(X_train_bow[lang], train_data[lang]['label'])\n",
    "    logistic_regression_models[lang] = model\n",
    "\n",
    "    train_accuracy = model.score(X_train_bow[lang], train_data[lang]['label'])\n",
    "    dev_accuracy = model.score(X_dev_bow[lang], dev_data[lang]['label'])\n",
    "\n",
    "    train_pred = model.predict(X_train_bow[lang])\n",
    "    dev_pred = model.predict(X_dev_bow[lang])\n",
    "\n",
    "    train_f1 = f1_score(train_data[lang]['label'], train_pred, average='weighted')\n",
    "    dev_f1 = f1_score(dev_data[lang]['label'], dev_pred, average='weighted')\n",
    "\n",
    "    print(f\"Logistic Regression {lang}:\\n\"\n",
    "          f\"  Train Accuracy: {train_accuracy}\\n\"\n",
    "          f\"  Dev Accuracy: {dev_accuracy}\\n\"\n",
    "          f\"  Train F1: {train_f1}\\n\"\n",
    "          f\"  Dev F1: {dev_f1}\\n\")\n",
    "\n",
    "# Train and evaluate naive bayes models\n",
    "naive_bayes_models = {}\n",
    "naive_bayes_scores = {}\n",
    "for lang in languages:\n",
    "    model = train_naive_bayes(X_train_bow[lang], train_data[lang]['label'])\n",
    "    naive_bayes_models[lang] = model\n",
    "\n",
    "    train_accuracy = model.score(X_train_bow[lang], train_data[lang]['label'])\n",
    "    dev_accuracy = model.score(X_dev_bow[lang], dev_data[lang]['label'])\n",
    "\n",
    "    train_pred = model.predict(X_train_bow[lang])\n",
    "    dev_pred = model.predict(X_dev_bow[lang])\n",
    "\n",
    "    train_f1 = f1_score(train_data[lang]['label'], train_pred, average='weighted')\n",
    "    dev_f1 = f1_score(dev_data[lang]['label'], dev_pred, average='weighted')\n",
    "\n",
    "    print(f\"Naive Bayes {lang}:\\n\"\n",
    "          f\"  Train Accuracy: {train_accuracy}\\n\"\n",
    "          f\"  Dev Accuracy: {dev_accuracy}\\n\"\n",
    "          f\"  Train F1: {train_f1}\\n\"\n",
    "          f\"  Dev F1: {dev_f1}\\n\")"
   ]
  },
  {
   "cell_type": "markdown",
   "metadata": {},
   "source": [
    "### Evaluation on Test Set"
   ]
  },
  {
   "cell_type": "code",
   "execution_count": 54,
   "metadata": {},
   "outputs": [
    {
     "name": "stdout",
     "output_type": "stream",
     "text": [
      "Classification Report for Logistic Regression hausa:\n",
      "               precision    recall  f1-score   support\n",
      "\n",
      "           0       0.63      0.77      0.69      1759\n",
      "           1       0.70      0.52      0.59      1789\n",
      "           2       0.75      0.79      0.77      1755\n",
      "\n",
      "    accuracy                           0.69      5303\n",
      "   macro avg       0.69      0.69      0.69      5303\n",
      "weighted avg       0.69      0.69      0.68      5303\n",
      "\n",
      "Classification Report for Logistic Regression igbo:\n",
      "               precision    recall  f1-score   support\n",
      "\n",
      "           0       0.73      0.64      0.68       943\n",
      "           1       0.73      0.75      0.74      1621\n",
      "           2       0.74      0.78      0.76      1118\n",
      "\n",
      "    accuracy                           0.73      3682\n",
      "   macro avg       0.73      0.73      0.73      3682\n",
      "weighted avg       0.73      0.73      0.73      3682\n",
      "\n",
      "Classification Report for Logistic Regression yoruba:\n",
      "               precision    recall  f1-score   support\n",
      "\n",
      "           0       0.56      0.63      0.59       981\n",
      "           1       0.74      0.63      0.68      1616\n",
      "           2       0.75      0.80      0.78      1918\n",
      "\n",
      "    accuracy                           0.70      4515\n",
      "   macro avg       0.68      0.69      0.68      4515\n",
      "weighted avg       0.71      0.70      0.70      4515\n",
      "\n",
      "Classification Report for Naive Bayes hausa:\n",
      "               precision    recall  f1-score   support\n",
      "\n",
      "           0       0.66      0.73      0.69      1759\n",
      "           1       0.66      0.61      0.63      1789\n",
      "           2       0.79      0.76      0.78      1755\n",
      "\n",
      "    accuracy                           0.70      5303\n",
      "   macro avg       0.70      0.70      0.70      5303\n",
      "weighted avg       0.70      0.70      0.70      5303\n",
      "\n",
      "Classification Report for Naive Bayes igbo:\n",
      "               precision    recall  f1-score   support\n",
      "\n",
      "           0       0.85      0.52      0.65       943\n",
      "           1       0.68      0.89      0.77      1621\n",
      "           2       0.82      0.72      0.77      1118\n",
      "\n",
      "    accuracy                           0.75      3682\n",
      "   macro avg       0.78      0.71      0.73      3682\n",
      "weighted avg       0.77      0.75      0.74      3682\n",
      "\n",
      "Classification Report for Naive Bayes yoruba:\n",
      "               precision    recall  f1-score   support\n",
      "\n",
      "           0       0.81      0.21      0.34       981\n",
      "           1       0.67      0.72      0.69      1616\n",
      "           2       0.66      0.87      0.75      1918\n",
      "\n",
      "    accuracy                           0.67      4515\n",
      "   macro avg       0.71      0.60      0.59      4515\n",
      "weighted avg       0.70      0.67      0.64      4515\n",
      "\n"
     ]
    }
   ],
   "source": [
    "# Predict the labels of the test data using the logistic regression models\n",
    "logistic_regression_test_preds = {}\n",
    "for lang in languages:\n",
    "    model = logistic_regression_models[lang]\n",
    "    logistic_regression_test_preds[lang] = model.predict(X_test_bow[lang])\n",
    "\n",
    "# Predict the labels of the test data using the naive bayes models\n",
    "naive_bayes_test_preds = {}\n",
    "for lang in languages:\n",
    "    model = naive_bayes_models[lang]\n",
    "    naive_bayes_test_preds[lang] = model.predict(X_test_bow[lang])\n",
    "\n",
    "# Print the classification report for the logistic regression models\n",
    "for lang in languages:\n",
    "    print(f\"Classification Report for Logistic Regression {lang}:\\n\", classification_report(test_data[lang]['label'], logistic_regression_test_preds[lang]))\n",
    "    \n",
    "# Print the classification report for the naive bayes models\n",
    "for lang in languages:\n",
    "    print(f\"Classification Report for Naive Bayes {lang}:\\n\", classification_report(test_data[lang]['label'], naive_bayes_test_preds[lang]))\n",
    "    "
   ]
  },
  {
   "cell_type": "markdown",
   "metadata": {},
   "source": [
    "No major significance in the performance of the models with or without stopwords."
   ]
  },
  {
   "cell_type": "markdown",
   "metadata": {},
   "source": [
    "### Plotting top 30 words in the training set for each langauge"
   ]
  },
  {
   "cell_type": "code",
   "execution_count": 56,
   "metadata": {},
   "outputs": [
    {
     "data": {
      "image/png": "[encoded data removed]",
      "text/plain": [
       "<Figure size 640x480 with 1 Axes>"
      ]
     },
     "metadata": {},
     "output_type": "display_data"
    },
    {
     "data": {
      "image/png": "[encoded data removed]",
      "text/plain": [
       "<Figure size 640x480 with 1 Axes>"
      ]
     },
     "metadata": {},
     "output_type": "display_data"
    },
    {
     "data": {
      "image/png": "[encoded data removed]",
      "text/plain": [
       "<Figure size 640x480 with 1 Axes>"
      ]
     },
     "metadata": {},
     "output_type": "display_data"
    }
   ],
   "source": [
    "from collections import Counter\n",
    "\n",
    "for lang in languages:\n",
    "    # Split the tweets into words\n",
    "    words = train_data[lang]['clean_w/o_sw'].str.split(expand=True).stack()\n",
    "\n",
    "    # Count the words\n",
    "    word_counts = Counter(words)\n",
    "\n",
    "    # Get the 30 most common words\n",
    "    common_words = word_counts.most_common(30)\n",
    "\n",
    "    # Convert the list of tuples into a DataFrame\n",
    "    df = pd.DataFrame(common_words, columns=['word', 'count'])\n",
    "\n",
    "    # Plot the word counts\n",
    "    df.plot(kind='bar', x='word', y='count', title=f\"Top 30 words in {lang} tweets\")\n",
    "    plt.show()"
   ]
  },
  {
   "cell_type": "code",
   "execution_count": 79,
   "metadata": {},
   "outputs": [],
   "source": [
    "import re\n",
    "\n",
    "# List of words to remove\n",
    "remove_words = ['yoruba', 'yorùbá' , 'to', 'the', 'is']\n",
    "\n",
    "# Create a regular expression pattern with word boundaries\n",
    "pattern = r'\\b(' + '|'.join(remove_words) + r')\\b'\n",
    "\n",
    "# Remove the words from the Yoruba corpus\n",
    "train_data['yoruba']['extra_clean'] = train_data['yoruba']['clean_w/o_sw'].str.replace(pattern, '', regex=True, case=False)"
   ]
  },
  {
   "cell_type": "code",
   "execution_count": 80,
   "metadata": {},
   "outputs": [],
   "source": [
    "test_data['yoruba']['extra_clean'] = test_data['yoruba']['clean_w/o_sw'].str.replace(pattern, '', regex=True, case=False)"
   ]
  },
  {
   "cell_type": "code",
   "execution_count": 82,
   "metadata": {},
   "outputs": [
    {
     "data": {
      "image/png": "[encoded data removed]",
      "text/plain": [
       "<Figure size 640x480 with 1 Axes>"
      ]
     },
     "metadata": {},
     "output_type": "display_data"
    }
   ],
   "source": [
    "import matplotlib.pyplot as plt\n",
    "from collections import Counter\n",
    "import pandas as pd\n",
    "\n",
    "# Split the tweets into words\n",
    "words = test_data['yoruba']['extra_clean'].str.split(expand=True).stack()\n",
    "\n",
    "# Count the words\n",
    "word_counts = Counter(words)\n",
    "\n",
    "# Get the 30 most common words\n",
    "common_words = word_counts.most_common(30)\n",
    "\n",
    "# Convert the list of tuples into a DataFrame\n",
    "df = pd.DataFrame(common_words, columns=['word', 'count'])\n",
    "\n",
    "# Plot the word counts\n",
    "df.plot(kind='bar', x='word', y='count', title=\"Top 30 words in Yoruba 'extra_clean' tweets\")\n",
    "plt.show()"
   ]
  },
  {
   "cell_type": "code",
   "execution_count": 226,
   "metadata": {},
   "outputs": [],
   "source": [
    "X_train_bow_new = {}\n",
    "X_test_bow_new = {}\n",
    "tf = TfidfVectorizer(max_features=20000, min_df=5)\n",
    "\n",
    "# Fit the vectorizer on the training data and transform it\n",
    "X_train_bow_new['yoruba'] = tf.fit_transform(train_data['yoruba']['extra_clean'])\n",
    "\n",
    "# Transform the test data using the same vectorizer\n",
    "X_test_bow_new['yoruba'] = tf.transform(test_data['yoruba']['extra_clean'])"
   ]
  },
  {
   "cell_type": "code",
   "execution_count": 227,
   "metadata": {},
   "outputs": [
    {
     "name": "stdout",
     "output_type": "stream",
     "text": [
      "(8522, 3283)\n",
      "(4515, 3283)\n"
     ]
    }
   ],
   "source": [
    "print(X_train_bow_new['yoruba'].shape)\n",
    "print(X_test_bow_new['yoruba'].shape)"
   ]
  },
  {
   "cell_type": "code",
   "execution_count": 232,
   "metadata": {},
   "outputs": [
    {
     "name": "stdout",
     "output_type": "stream",
     "text": [
      "Train Accuracy: 0.8622389110537433\n"
     ]
    }
   ],
   "source": [
    "lr = LogisticRegression(max_iter=1000, penalty='l2', solver='liblinear', C=3)\n",
    "lr.fit(X_train_bow_new['yoruba'], train_data['yoruba']['label'])\n",
    "\n",
    "train_accuracy = lr.score(X_train_bow_new['yoruba'], train_data['yoruba']['label'])\n",
    "print(f\"Train Accuracy: {train_accuracy}\") \n"
   ]
  },
  {
   "cell_type": "code",
   "execution_count": 233,
   "metadata": {},
   "outputs": [
    {
     "name": "stdout",
     "output_type": "stream",
     "text": [
      "              precision    recall  f1-score   support\n",
      "\n",
      "           0       0.62      0.50      0.55       981\n",
      "           1       0.68      0.72      0.70      1616\n",
      "           2       0.76      0.80      0.78      1918\n",
      "\n",
      "    accuracy                           0.71      4515\n",
      "   macro avg       0.69      0.67      0.68      4515\n",
      "weighted avg       0.70      0.71      0.70      4515\n",
      "\n"
     ]
    }
   ],
   "source": [
    "# Predict with the test data\n",
    "test_preds = lr.predict(X_test_bow_new['yoruba'])\n",
    "\n",
    "# Print the classification report\n",
    "print(classification_report(test_data['yoruba']['label'], test_preds))\n",
    "\n"
   ]
  },
  {
   "cell_type": "markdown",
   "metadata": {},
   "source": [
    "## STACKING CLASSIFIER\n",
    "- Stacking Logistic Regression and Naive Bayes Model"
   ]
  },
  {
   "cell_type": "code",
   "execution_count": 239,
   "metadata": {},
   "outputs": [],
   "source": [
    "# Define the base models\n",
    "base_models = [\n",
    "    ('logistic_regression', LogisticRegression(max_iter=1000, penalty='l1', solver='liblinear', C=1)),\n",
    "    ('naive_bayes', MultinomialNB(alpha=1))\n",
    "]\n",
    "\n",
    "# Define the meta-model\n",
    "meta_model = LogisticRegression(max_iter=1000, penalty='l1', solver='liblinear', C=1)\n",
    "\n",
    "# Define the stacking classifier\n",
    "stacking_classifier = StackingClassifier(estimators=base_models, final_estimator=meta_model)\n",
    "\n",
    "# Create a pipeline that transforms the data, trains the base models, and then trains the meta-model\n",
    "pipeline = make_pipeline(TfidfVectorizer(), stacking_classifier)\n",
    "\n",
    "# Dictionary to store the pipelines for each language\n",
    "pipelines = {}\n",
    "\n",
    "# Loop over the languages\n",
    "for lang in languages:\n",
    "    # Clone the pipeline\n",
    "    pipeline_clone = clone(pipeline)\n",
    "    \n",
    "    # Train the pipeline on the training data\n",
    "    pipeline_clone.fit(train_data[lang]['clean_w/o_sw'], train_data[lang]['label'])\n",
    "    \n",
    "    # Store the pipeline\n",
    "    pipelines[lang] = pipeline_clone\n",
    "\n",
    "# Make predictions with the test data\n",
    "predictions = {lang: pipelines[lang].predict(test_data[lang]['clean_w/o_sw']) for lang in languages}\n",
    "\n"
   ]
  },
  {
   "cell_type": "markdown",
   "metadata": {},
   "source": [
    "### Evaluating the Stacking classifier Model on the Test Data"
   ]
  },
  {
   "cell_type": "code",
   "execution_count": 240,
   "metadata": {},
   "outputs": [
    {
     "name": "stdout",
     "output_type": "stream",
     "text": [
      "Results for hausa:\n",
      "Accuracy: 0.7297755987177069\n",
      "F1 Score: 0.7305804436578271\n",
      "\n",
      "\n",
      "Results for igbo:\n",
      "Accuracy: 0.7561108093427485\n",
      "F1 Score: 0.753683834287036\n",
      "\n",
      "\n",
      "Results for yoruba:\n",
      "Accuracy: 0.7122923588039867\n",
      "F1 Score: 0.7068909012729293\n",
      "\n",
      "\n"
     ]
    }
   ],
   "source": [
    "from sklearn.metrics import accuracy_score, f1_score\n",
    "\n",
    "# Loop over the languages\n",
    "for lang in languages:\n",
    "    # Calculate the accuracy\n",
    "    accuracy = accuracy_score(test_data[lang]['label'], predictions[lang])\n",
    "    \n",
    "    # Calculate the F1 score\n",
    "    f1 = f1_score(test_data[lang]['label'], predictions[lang], average='weighted')\n",
    "    \n",
    "    print(f\"Results for {lang}:\")\n",
    "    print(f\"Accuracy: {accuracy}\")\n",
    "    print(f\"F1 Score: {f1}\")\n",
    "    print(\"\\n\")"
   ]
  },
  {
   "cell_type": "markdown",
   "metadata": {},
   "source": [
    "## Removing the English Stopwords from the Datasets"
   ]
  },
  {
   "cell_type": "code",
   "execution_count": 255,
   "metadata": {},
   "outputs": [
    {
     "name": "stderr",
     "output_type": "stream",
     "text": [
      "[nltk_data] Downloading package stopwords to\n",
      "[nltk_data]     C:\\Users\\HP\\AppData\\Roaming\\nltk_data...\n",
      "[nltk_data]   Unzipping corpora\\stopwords.zip.\n"
     ]
    }
   ],
   "source": [
    "# Download the stopwords from nltk\n",
    "nltk.download('stopwords')\n",
    "\n",
    "# Get the English stopwords\n",
    "stop_words = set(stopwords.words('english'))\n",
    "\n",
    "# Function to remove stopwords from text\n",
    "def remove_stopwords(text):\n",
    "    word_tokens = word_tokenize(text)\n",
    "    filtered_text = [word for word in word_tokens if word not in stop_words]\n",
    "    return ' '.join(filtered_text)\n",
    "\n",
    "# Loop over the languages\n",
    "for lang in languages:\n",
    "    # Remove stopwords from the text and create a new column\n",
    "    train_data[lang]['text_without_stopwords'] = train_data[lang]['clean_w/o_sw'].apply(remove_stopwords)\n",
    "    dev_data[lang]['text_without_stopwords'] = dev_data[lang]['clean_w/o_sw'].apply(remove_stopwords)\n",
    "    test_data[lang]['text_without_stopwords'] = test_data[lang]['clean_w/o_sw'].apply(remove_stopwords)\n",
    "    \n"
   ]
  },
  {
   "cell_type": "code",
   "execution_count": 263,
   "metadata": {},
   "outputs": [],
   "source": [
    "# Create a function to train a logistic regression model with the given feature matrix and labels\n",
    "def train_logistic_regression(X, y):\n",
    "    model = LogisticRegression(max_iter=1000)\n",
    "    model.fit(X, y)\n",
    "    return model\n",
    "\n",
    "# Create a function to train a naive bayes model with the given feature matrix and labels\n",
    "def train_naive_bayes(X, y):\n",
    "    model = MultinomialNB()\n",
    "    model.fit(X, y)\n",
    "    return model"
   ]
  },
  {
   "cell_type": "code",
   "execution_count": 264,
   "metadata": {},
   "outputs": [
    {
     "name": "stdout",
     "output_type": "stream",
     "text": [
      "Shape of X_train_tfidf for hausa: (14172, 21617)\n",
      "Shape of X_dev_tfidf for hausa: (2677, 21617)\n",
      "Shape of X_test_tfidf for hausa: (5303, 21617)\n",
      "Shape of X_train_tfidf for igbo: (10192, 15338)\n",
      "Shape of X_dev_tfidf for igbo: (1841, 15338)\n",
      "Shape of X_test_tfidf for igbo: (3682, 15338)\n",
      "Shape of X_train_tfidf for yoruba: (8522, 22147)\n",
      "Shape of X_dev_tfidf for yoruba: (2090, 22147)\n",
      "Shape of X_test_tfidf for yoruba: (4515, 22147)\n"
     ]
    }
   ],
   "source": [
    "# Initialize TfidfVectorizer\n",
    "tfidf_vectorizer = TfidfVectorizer()\n",
    "\n",
    "# Fit and transform the preprocessed text data to obtain tf-idf features\n",
    "X_train_tfidf = {}\n",
    "X_dev_tfidf = {}\n",
    "X_test_tfidf = {}\n",
    "\n",
    "for lang in languages:\n",
    "    X_train_tfidf[lang] = tfidf_vectorizer.fit_transform(train_data[lang]['text_without_stopwords'])\n",
    "    X_dev_tfidf[lang] = tfidf_vectorizer.transform(dev_data[lang]['text_without_stopwords'])\n",
    "    X_test_tfidf[lang] = tfidf_vectorizer.transform(test_data[lang]['text_without_stopwords'])\n",
    "\n",
    "# Display the shape of the obtained feature matrices\n",
    "for lang in languages:\n",
    "    print(f\"Shape of X_train_tfidf for {lang}:\", X_train_tfidf[lang].shape)\n",
    "    print(f\"Shape of X_dev_tfidf for {lang}:\", X_dev_tfidf[lang].shape)\n",
    "    print(f\"Shape of X_test_tfidf for {lang}:\", X_test_tfidf[lang].shape)"
   ]
  },
  {
   "cell_type": "code",
   "execution_count": 265,
   "metadata": {},
   "outputs": [
    {
     "name": "stdout",
     "output_type": "stream",
     "text": [
      "Logistic Regression hausa:\n",
      "  Train Accuracy: 0.8845611064069997\n",
      "  Dev Accuracy: 0.6985431453119163\n",
      "  Train F1: 0.8848673770735492\n",
      "  Dev F1: 0.7001348898430287\n",
      "\n",
      "Logistic Regression igbo:\n",
      "  Train Accuracy: 0.8797095761381476\n",
      "  Dev Accuracy: 0.7403585008147746\n",
      "  Train F1: 0.8789894796803916\n",
      "  Dev F1: 0.7366925458649201\n",
      "\n",
      "Logistic Regression yoruba:\n",
      "  Train Accuracy: 0.9164515371978409\n",
      "  Dev Accuracy: 0.7114832535885167\n",
      "  Train F1: 0.9156434328880769\n",
      "  Dev F1: 0.7033743726807844\n",
      "\n",
      "Naive Bayes hausa:\n",
      "  Train Accuracy: 0.8842788597233983\n",
      "  Dev Accuracy: 0.6974224878595443\n",
      "  Train F1: 0.8844679842454011\n",
      "  Dev F1: 0.6978403596474724\n",
      "\n",
      "Naive Bayes igbo:\n",
      "  Train Accuracy: 0.8520408163265306\n",
      "  Dev Accuracy: 0.7213470939706681\n",
      "  Train F1: 0.8500465128060982\n",
      "  Dev F1: 0.7123165944826468\n",
      "\n",
      "Naive Bayes yoruba:\n",
      "  Train Accuracy: 0.8066181647500587\n",
      "  Dev Accuracy: 0.6583732057416268\n",
      "  Train F1: 0.7895575321149076\n",
      "  Dev F1: 0.6139972388694188\n",
      "\n"
     ]
    }
   ],
   "source": [
    "# Train and evaluate logistic regression models\n",
    "logistic_regression_models = {}\n",
    "logistic_regression_scores = {}\n",
    "for lang in languages:\n",
    "    model = train_logistic_regression(X_train_tfidf[lang], train_data[lang]['label'])\n",
    "    logistic_regression_models[lang] = model\n",
    "\n",
    "    train_accuracy = model.score(X_train_tfidf[lang], train_data[lang]['label'])\n",
    "    dev_accuracy = model.score(X_dev_tfidf[lang], dev_data[lang]['label'])\n",
    "\n",
    "    train_pred = model.predict(X_train_tfidf[lang])\n",
    "    dev_pred = model.predict(X_dev_tfidf[lang])\n",
    "\n",
    "    train_f1 = f1_score(train_data[lang]['label'], train_pred, average='weighted')\n",
    "    dev_f1 = f1_score(dev_data[lang]['label'], dev_pred, average='weighted')\n",
    "\n",
    "    print(f\"Logistic Regression {lang}:\\n\"\n",
    "          f\"  Train Accuracy: {train_accuracy}\\n\"\n",
    "          f\"  Dev Accuracy: {dev_accuracy}\\n\"\n",
    "          f\"  Train F1: {train_f1}\\n\"\n",
    "          f\"  Dev F1: {dev_f1}\\n\")\n",
    "\n",
    "# Train and evaluate naive bayes models\n",
    "naive_bayes_models = {}\n",
    "naive_bayes_scores = {}\n",
    "for lang in languages:\n",
    "    model = train_naive_bayes(X_train_tfidf[lang], train_data[lang]['label'])\n",
    "    naive_bayes_models[lang] = model\n",
    "\n",
    "    train_accuracy = model.score(X_train_tfidf[lang], train_data[lang]['label'])\n",
    "    dev_accuracy = model.score(X_dev_tfidf[lang], dev_data[lang]['label'])\n",
    "\n",
    "    train_pred = model.predict(X_train_tfidf[lang])\n",
    "    dev_pred = model.predict(X_dev_tfidf[lang])\n",
    "\n",
    "    train_f1 = f1_score(train_data[lang]['label'], train_pred, average='weighted')\n",
    "    dev_f1 = f1_score(dev_data[lang]['label'], dev_pred, average='weighted')\n",
    "\n",
    "    print(f\"Naive Bayes {lang}:\\n\"\n",
    "          f\"  Train Accuracy: {train_accuracy}\\n\"\n",
    "          f\"  Dev Accuracy: {dev_accuracy}\\n\"\n",
    "          f\"  Train F1: {train_f1}\\n\"\n",
    "          f\"  Dev F1: {dev_f1}\\n\")"
   ]
  },
  {
   "cell_type": "markdown",
   "metadata": {},
   "source": [
    "### Evaluate Models on Test Set"
   ]
  },
  {
   "cell_type": "code",
   "execution_count": 266,
   "metadata": {},
   "outputs": [
    {
     "name": "stdout",
     "output_type": "stream",
     "text": [
      "Classification Report for Logistic Regression hausa:\n",
      "               precision    recall  f1-score   support\n",
      "\n",
      "           0       0.73      0.68      0.70      1759\n",
      "           1       0.64      0.73      0.68      1789\n",
      "           2       0.82      0.76      0.79      1755\n",
      "\n",
      "    accuracy                           0.72      5303\n",
      "   macro avg       0.73      0.72      0.72      5303\n",
      "weighted avg       0.73      0.72      0.72      5303\n",
      "\n",
      "Classification Report for Logistic Regression igbo:\n",
      "               precision    recall  f1-score   support\n",
      "\n",
      "           0       0.79      0.58      0.67       943\n",
      "           1       0.69      0.87      0.77      1621\n",
      "           2       0.84      0.70      0.77      1118\n",
      "\n",
      "    accuracy                           0.75      3682\n",
      "   macro avg       0.77      0.72      0.73      3682\n",
      "weighted avg       0.76      0.75      0.74      3682\n",
      "\n",
      "Classification Report for Logistic Regression yoruba:\n",
      "               precision    recall  f1-score   support\n",
      "\n",
      "           0       0.66      0.49      0.56       981\n",
      "           1       0.71      0.72      0.71      1616\n",
      "           2       0.74      0.83      0.78      1918\n",
      "\n",
      "    accuracy                           0.72      4515\n",
      "   macro avg       0.70      0.68      0.69      4515\n",
      "weighted avg       0.71      0.72      0.71      4515\n",
      "\n",
      "Classification Report for Naive Bayes hausa:\n",
      "               precision    recall  f1-score   support\n",
      "\n",
      "           0       0.68      0.72      0.70      1759\n",
      "           1       0.65      0.65      0.65      1789\n",
      "           2       0.81      0.77      0.79      1755\n",
      "\n",
      "    accuracy                           0.71      5303\n",
      "   macro avg       0.71      0.71      0.71      5303\n",
      "weighted avg       0.71      0.71      0.71      5303\n",
      "\n",
      "Classification Report for Naive Bayes igbo:\n",
      "               precision    recall  f1-score   support\n",
      "\n",
      "           0       0.89      0.46      0.61       943\n",
      "           1       0.65      0.92      0.76      1621\n",
      "           2       0.84      0.67      0.75      1118\n",
      "\n",
      "    accuracy                           0.73      3682\n",
      "   macro avg       0.79      0.69      0.71      3682\n",
      "weighted avg       0.77      0.73      0.72      3682\n",
      "\n",
      "Classification Report for Naive Bayes yoruba:\n",
      "               precision    recall  f1-score   support\n",
      "\n",
      "           0       0.88      0.14      0.24       981\n",
      "           1       0.67      0.72      0.69      1616\n",
      "           2       0.64      0.88      0.74      1918\n",
      "\n",
      "    accuracy                           0.66      4515\n",
      "   macro avg       0.73      0.58      0.56      4515\n",
      "weighted avg       0.70      0.66      0.62      4515\n",
      "\n"
     ]
    }
   ],
   "source": [
    "# Predict the labels of the test data using the logistic regression models\n",
    "logistic_regression_test_preds = {}\n",
    "for lang in languages:\n",
    "    model = logistic_regression_models[lang]\n",
    "    logistic_regression_test_preds[lang] = model.predict(X_test_tfidf[lang])\n",
    "\n",
    "# Predict the labels of the test data using the naive bayes models\n",
    "naive_bayes_test_preds = {}\n",
    "for lang in languages:\n",
    "    model = naive_bayes_models[lang]\n",
    "    naive_bayes_test_preds[lang] = model.predict(X_test_tfidf[lang])\n",
    "\n",
    "# Print the classification report for the logistic regression models\n",
    "for lang in languages:\n",
    "    print(f\"Classification Report for Logistic Regression {lang}:\\n\", classification_report(test_data[lang]['label'], logistic_regression_test_preds[lang]))\n",
    "    \n",
    "# Print the classification report for the naive bayes models\n",
    "for lang in languages:\n",
    "    print(f\"Classification Report for Naive Bayes {lang}:\\n\", classification_report(test_data[lang]['label'], naive_bayes_test_preds[lang]))\n",
    "    "
   ]
  },
  {
   "cell_type": "markdown",
   "metadata": {},
   "source": [
    "# Multi-Lingual Modeling\n",
    "- Training Logistic Regression and Naive Bayes Model to Perform Multilingual Sentiment Analysis"
   ]
  },
  {
   "cell_type": "markdown",
   "metadata": {},
   "source": [
    "### Combine all the languages into one dataset"
   ]
  },
  {
   "cell_type": "code",
   "execution_count": 289,
   "metadata": {},
   "outputs": [],
   "source": [
    "X_train, y_train = [], []\n",
    "for lang in languages:\n",
    "    X_train.extend(train_data[lang]['text_without_stopwords'])\n",
    "    y_train.extend(train_data[lang]['label'])\n",
    "\n",
    "X_dev, y_dev = [], []\n",
    "for lang in languages:\n",
    "    X_dev.extend(dev_data[lang]['text_without_stopwords'])\n",
    "    y_dev.extend(dev_data[lang]['label'])\n",
    "\n",
    "X_test, y_test = [], []\n",
    "for lang in languages:\n",
    "    X_test.extend(test_data[lang]['text_without_stopwords'])\n",
    "    y_test.extend(test_data[lang]['label'])"
   ]
  },
  {
   "cell_type": "markdown",
   "metadata": {},
   "source": [
    "### Initialize count vectorizer, fit to train data, and transform on dev and test data"
   ]
  },
  {
   "cell_type": "code",
   "execution_count": null,
   "metadata": {},
   "outputs": [],
   "source": [
    "vectorizer = CountVectorizer()\n",
    "X_train = vectorizer.fit_transform(X_train)\n",
    "X_dev = vectorizer.transform(X_dev)\n",
    "X_test = vectorizer.transform(X_test)"
   ]
  },
  {
   "cell_type": "code",
   "execution_count": 309,
   "metadata": {},
   "outputs": [],
   "source": [
    "#Initialize the logistic regression and naive bayes model\n",
    "lr = LogisticRegression(max_iter=1000, penalty='l1', solver='liblinear', C=1)\n",
    "nb = MultinomialNB()"
   ]
  },
  {
   "cell_type": "code",
   "execution_count": 310,
   "metadata": {},
   "outputs": [
    {
     "name": "stdout",
     "output_type": "stream",
     "text": [
      "Logistic Regression Dev Accuracy: 0.7144370460048426\n",
      "Naive Bayes Dev Accuracy: 0.6752421307506054\n"
     ]
    }
   ],
   "source": [
    "# Train the models and evaluate on the dev data\n",
    "lr.fit(X_train, y_train)\n",
    "y_pred = lr.predict(X_dev)\n",
    "lr_accuracy = accuracy_score(y_dev, y_pred)\n",
    "print(f'Logistic Regression Dev Accuracy: {lr_accuracy}')\n",
    "\n",
    "nb.fit(X_train, y_train)\n",
    "y_pred = nb.predict(X_dev)\n",
    "nb_accuracy = accuracy_score(y_dev, y_pred)\n",
    "print(f'Naive Bayes Dev Accuracy: {nb_accuracy}')"
   ]
  },
  {
   "cell_type": "markdown",
   "metadata": {},
   "source": [
    "### Evaluate the Multilingual Model on Test Data"
   ]
  },
  {
   "cell_type": "code",
   "execution_count": 311,
   "metadata": {},
   "outputs": [
    {
     "name": "stdout",
     "output_type": "stream",
     "text": [
      "Logistic Regression Test Accuracy: 0.7175555555555555\n",
      "Logistic Regression Test F1: 0.7169956908290079\n",
      "Naive Bayes Test Accuracy: 0.6765185185185185\n",
      "Naive Bayes Test F1: 0.6770116536221717\n"
     ]
    }
   ],
   "source": [
    "y_pred = lr.predict(X_test)\n",
    "lr_test_accuracy = accuracy_score(y_test, y_pred)\n",
    "lr_f1 = f1_score(y_test, y_pred, average='weighted')\n",
    "print(f'Logistic Regression Test Accuracy: {lr_test_accuracy}')\n",
    "print(f'Logistic Regression Test F1: {lr_f1}')\n",
    "\n",
    "y_pred = nb.predict(X_test)\n",
    "nb_test_accuracy = accuracy_score(y_test, y_pred)\n",
    "nb_f1 = f1_score(y_test, y_pred, average='weighted')\n",
    "print(f'Naive Bayes Test Accuracy: {nb_test_accuracy}')\n",
    "print(f'Naive Bayes Test F1: {nb_f1}')"
   ]
  },
  {
   "cell_type": "markdown",
   "metadata": {},
   "source": [
    "### Stacking Logistic Regression and Naive Bayes Model for Multilingual Sentiment Analysis"
   ]
  },
  {
   "cell_type": "code",
   "execution_count": 317,
   "metadata": {},
   "outputs": [
    {
     "name": "stdout",
     "output_type": "stream",
     "text": [
      "              precision    recall  f1-score   support\n",
      "\n",
      "           0       0.72      0.58      0.64      3683\n",
      "           1       0.66      0.80      0.72      5026\n",
      "           2       0.81      0.75      0.78      4791\n",
      "\n",
      "    accuracy                           0.72     13500\n",
      "   macro avg       0.73      0.71      0.72     13500\n",
      "weighted avg       0.73      0.72      0.72     13500\n",
      "\n"
     ]
    }
   ],
   "source": [
    "# Stack the Logistic Regression and Naive Bayes models\n",
    "\n",
    "# Define the base models\n",
    "base_models = [\n",
    "    ('logistic_regression', LogisticRegression(max_iter=1000, penalty='l1', solver='liblinear', C=1)),\n",
    "    ('naive_bayes', MultinomialNB(alpha=1))\n",
    "]\n",
    "\n",
    "# Define the meta-model\n",
    "meta_model = LogisticRegression(max_iter=1000, penalty='l1', solver='liblinear', C=1)\n",
    "\n",
    "# Define the stacking classifier\n",
    "stacking_classifier = StackingClassifier(estimators=base_models, final_estimator=meta_model)\n",
    "\n",
    "# Train the stacking classifier\n",
    "stacking_classifier.fit(X_train, y_train)\n",
    "\n",
    "# Make predictions with the test data\n",
    "test_preds = stacking_classifier.predict(X_test)\n",
    "\n",
    "# Print the classification report\n",
    "print(classification_report(y_test, test_preds))\n"
   ]
  },
  {
   "cell_type": "markdown",
   "metadata": {},
   "source": [
    "# NEURAL NETWORKS"
   ]
  },
  {
   "cell_type": "code",
   "execution_count": null,
   "metadata": {},
   "outputs": [],
   "source": []
  },
  {
   "cell_type": "code",
   "execution_count": 278,
   "metadata": {},
   "outputs": [
    {
     "name": "stdout",
     "output_type": "stream",
     "text": [
      "Epoch 1/3\n",
      "798/798 [==============================] - 232s 273ms/step - loss: 0.8158 - accuracy: 0.6290 - val_loss: 0.6298 - val_accuracy: 0.7391\n",
      "Epoch 2/3\n",
      "798/798 [==============================] - 203s 254ms/step - loss: 0.4535 - accuracy: 0.8227 - val_loss: 0.7420 - val_accuracy: 0.7292\n",
      "Epoch 3/3\n",
      "798/798 [==============================] - 201s 252ms/step - loss: 0.2598 - accuracy: 0.9039 - val_loss: 0.8684 - val_accuracy: 0.7264\n",
      "Epoch 1/3\n",
      "574/574 [==============================] - 154s 246ms/step - loss: 0.9876 - accuracy: 0.5204 - val_loss: 1.3567 - val_accuracy: 0.2069\n",
      "Epoch 2/3\n",
      "574/574 [==============================] - 141s 245ms/step - loss: 0.8876 - accuracy: 0.5802 - val_loss: 1.2845 - val_accuracy: 0.2647\n",
      "Epoch 3/3\n",
      "574/574 [==============================] - 139s 243ms/step - loss: 0.8446 - accuracy: 0.6037 - val_loss: 1.4816 - val_accuracy: 0.2461\n",
      "Epoch 1/3\n",
      "480/480 [==============================] - 135s 255ms/step - loss: 1.0312 - accuracy: 0.4866 - val_loss: 0.9600 - val_accuracy: 0.3517\n",
      "Epoch 2/3\n",
      "480/480 [==============================] - 122s 254ms/step - loss: 0.9272 - accuracy: 0.5630 - val_loss: 0.8469 - val_accuracy: 0.4385\n",
      "Epoch 3/3\n",
      "480/480 [==============================] - 121s 252ms/step - loss: 0.8737 - accuracy: 0.5876 - val_loss: 0.9487 - val_accuracy: 0.3681\n",
      "Accuracy of LSTM model for hausa: 0.711991012096405\n",
      "Accuracy of LSTM model for igbo: 0.536121666431427\n",
      "Accuracy of LSTM model for yoruba: 0.5354067087173462\n"
     ]
    }
   ],
   "source": [
    "from keras.preprocessing.text import Tokenizer\n",
    "from tensorflow.keras.preprocessing.sequence import pad_sequences\n",
    "from keras.optimizers import Adam\n",
    "\n",
    "optimizer = Adam(learning_rate=0.003)\n",
    "\n",
    "# Create a function to train a multi layer LSTM model\n",
    "def train_lstm(X, y, max_len, vocab_size):\n",
    "    model = Sequential()\n",
    "    model.add(Embedding(vocab_size, 100, input_length=max_len))\n",
    "    model.add(SpatialDropout1D(0.2))\n",
    "    model.add(LSTM(100, dropout=0.2, recurrent_dropout=0.2))\n",
    "    model.add(Dense(3, activation='softmax'))\n",
    "    model.compile(loss='categorical_crossentropy', optimizer='adam', metrics=['accuracy'])\n",
    "    model.fit(X, y, epochs=3, batch_size=16, validation_split=0.1, callbacks=[EarlyStopping(monitor='val_loss', patience=3, min_delta=0.0001)])\n",
    "    return model\n",
    "\n",
    "# Tokenize the text\n",
    "max_features = 20000\n",
    "tokenizer = Tokenizer(num_words=max_features)\n",
    "tokenizer.fit_on_texts(train_data[lang]['text_without_stopwords'])\n",
    "\n",
    "# Train multi layer LSTM models using the tokenized text for the three languages\n",
    "lstm_models = {}\n",
    "max_len = 70\n",
    "for lang in languages:\n",
    "    X_train_seq = pad_sequences(tokenizer.texts_to_sequences(train_data[lang]['text_without_stopwords']), maxlen=max_len)\n",
    "    y_train_seq = pd.get_dummies(train_data[lang]['label']).values\n",
    "    vocab_size = len(tokenizer.word_index) + 1\n",
    "    lstm_models[lang] = train_lstm(X_train_seq, y_train_seq, max_len, vocab_size)\n",
    "    \n",
    "# Evaluate the LSTM models using the dev data\n",
    "lstm_scores = {}\n",
    "for lang in languages:\n",
    "    X_dev_seq = pad_sequences(tokenizer.texts_to_sequences(dev_data[lang]['text_without_stopwords']), maxlen=max_len)\n",
    "    y_dev_seq = pd.get_dummies(dev_data[lang]['label']).values\n",
    "    lstm_scores[lang] = lstm_models[lang].evaluate(X_dev_seq, y_dev_seq, verbose=0)[1]\n",
    "    print(f\"Accuracy of LSTM model for {lang}:\", lstm_scores[lang])"
   ]
  },
  {
   "cell_type": "code",
   "execution_count": 279,
   "metadata": {},
   "outputs": [
    {
     "name": "stdout",
     "output_type": "stream",
     "text": [
      "166/166 [==============================] - 8s 39ms/step\n",
      "Classification report for LSTM model for hausa:\n",
      "               precision    recall  f1-score   support\n",
      "\n",
      "           0       0.73      0.70      0.71      1759\n",
      "           1       0.64      0.72      0.68      1789\n",
      "           2       0.81      0.74      0.77      1755\n",
      "\n",
      "    accuracy                           0.72      5303\n",
      "   macro avg       0.73      0.72      0.72      5303\n",
      "weighted avg       0.73      0.72      0.72      5303\n",
      "\n",
      "116/116 [==============================] - 6s 40ms/step\n",
      "Classification report for LSTM model for igbo:\n",
      "               precision    recall  f1-score   support\n",
      "\n",
      "           0       0.51      0.27      0.35       943\n",
      "           1       0.49      0.85      0.62      1621\n",
      "           2       0.73      0.25      0.38      1118\n",
      "\n",
      "    accuracy                           0.52      3682\n",
      "   macro avg       0.57      0.46      0.45      3682\n",
      "weighted avg       0.57      0.52      0.48      3682\n",
      "\n",
      "142/142 [==============================] - 7s 42ms/step\n",
      "Classification report for LSTM model for yoruba:\n",
      "               precision    recall  f1-score   support\n",
      "\n",
      "           0       0.51      0.24      0.33       981\n",
      "           1       0.45      0.82      0.58      1616\n",
      "           2       0.68      0.40      0.50      1918\n",
      "\n",
      "    accuracy                           0.51      4515\n",
      "   macro avg       0.55      0.49      0.47      4515\n",
      "weighted avg       0.56      0.51      0.49      4515\n",
      "\n"
     ]
    }
   ],
   "source": [
    "# Test the LSTM models using the test data and print the classification report\n",
    "lstm_predictions = {}\n",
    "for lang in languages:\n",
    "    X_test_seq = pad_sequences(tokenizer.texts_to_sequences(test_data[lang]['text_without_stopwords']), maxlen=max_len)\n",
    "    y_test_seq = pd.get_dummies(test_data[lang]['label']).values\n",
    "    lstm_predictions[lang] = np.argmax(lstm_models[lang].predict(X_test_seq), axis=-1)\n",
    "    print(f\"Classification report for LSTM model for {lang}:\\n\", classification_report(np.argmax(y_test_seq, axis=-1), lstm_predictions[lang]))\n",
    "    "
   ]
  },
  {
   "cell_type": "code",
   "execution_count": 287,
   "metadata": {},
   "outputs": [
    {
     "name": "stdout",
     "output_type": "stream",
     "text": [
      "['àrẹ', 'alàgbà', 'kú', 'àbọ', 'toò', 'iṣẹ', 'yá', 'tọtún', 'tòsì', 'ẹyẹlé', 'nkó', 'ire', 'wọlé', 'sá', 'iṣẹ', 'abẹ', 'yẹra', 'oògùn', 'òyìnbó', 'lo', 'egbògi', 'n', 'mu', 'àgbo', 'ewé', 'àtegbò', 'dájú', 'òwú', 'là', 'inú', 'bólóko', 'ǹjẹ', 'lónìí', 'ọjọ', 'kẹyìn', 'oṣù', 'ọlọnàọlà', 'la', 'ọnà', 'ọnàa', 'mí', 'là', 'olódùmarè', 'ṣínàa', 'ọlà', 'tún', 'ọnàa', 'là', 'beeni', 'ko']\n"
     ]
    },
    {
     "data": {
      "image/png": "[encoded data removed]",
      "text/plain": [
       "<Figure size 1200x500 with 1 Axes>"
      ]
     },
     "metadata": {},
     "output_type": "display_data"
    }
   ],
   "source": [
    "# visualize the most common words in the tweet column for the three languages\n",
    "import nltk\n",
    "all_words = []\n",
    "for t in test_data['yoruba']['text_without_stopwords']:\n",
    "    all_words.extend(t.split())\n",
    "\n",
    "print(all_words[:50])\n",
    "len(set(all_words))\n",
    "\n",
    "# Frequency Distribution\n",
    "freq_dist = nltk.FreqDist(all_words)\n",
    "\n",
    "plt.figure(figsize=(12,5))\n",
    "plt.title('Top 25 most common words')\n",
    "plt.xticks(fontsize=15)\n",
    "\n",
    "freq_dist.plot(25, cumulative=False)\n",
    "\n",
    "plt.show()\n"
   ]
  }
 ],
 "metadata": {
  "kernelspec": {
   "display_name": "Python 3",
   "language": "python",
   "name": "python3"
  },
  "language_info": {
   "codemirror_mode": {
    "name": "ipython",
    "version": 3
   },
   "file_extension": ".py",
   "mimetype": "text/x-python",
   "name": "python",
   "nbconvert_exporter": "python",
   "pygments_lexer": "ipython3",
   "version": "3.11.5"
  }
 },
 "nbformat": 4,
 "nbformat_minor": 2
}
